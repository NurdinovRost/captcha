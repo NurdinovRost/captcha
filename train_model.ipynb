{
  "nbformat": 4,
  "nbformat_minor": 0,
  "metadata": {
    "colab": {
      "name": "mati-test.ipynb",
      "provenance": [],
      "collapsed_sections": []
    },
    "kernelspec": {
      "name": "python3",
      "display_name": "Python 3"
    },
    "accelerator": "GPU"
  },
  "cells": [
    {
      "cell_type": "code",
      "metadata": {
        "id": "aG5G4l5lEYTz",
        "outputId": "85d69b78-99b1-4167-c898-4e3a95e771bc",
        "colab": {
          "base_uri": "https://localhost:8080/",
          "height": 34
        }
      },
      "source": [
        "from google.colab import drive\n",
        "drive.mount('/content/drive', force_remount=True)"
      ],
      "execution_count": 1,
      "outputs": [
        {
          "output_type": "stream",
          "text": [
            "Mounted at /content/drive\n"
          ],
          "name": "stdout"
        }
      ]
    },
    {
      "cell_type": "code",
      "metadata": {
        "id": "7uNdEHo4FJ1i",
        "outputId": "721bfc59-b42d-4433-dd53-1d453d852095",
        "colab": {
          "base_uri": "https://localhost:8080/",
          "height": 1000
        }
      },
      "source": [
        "!cp ./drive/My\\ Drive/mati-cv-trial-task.zip mati-task.zip\n",
        "!unzip mati-task.zip\n",
        "!rm mati-task.zip task\n",
        "!mkdir output"
      ],
      "execution_count": 2,
      "outputs": [
        {
          "output_type": "stream",
          "text": [
            "Archive:  mati-task.zip\n",
            "   creating: test/\n",
            "  inflating: __MACOSX/._test         \n",
            "  inflating: test/354F1.png          \n",
            "  inflating: __MACOSX/test/._354F1.png  \n",
            "  inflating: test/B2184.png          \n",
            "  inflating: __MACOSX/test/._B2184.png  \n",
            "  inflating: test/EA353.png          \n",
            "  inflating: __MACOSX/test/._EA353.png  \n",
            "  inflating: test/94EFC.png          \n",
            "  inflating: __MACOSX/test/._94EFC.png  \n",
            "  inflating: test/C9765.png          \n",
            "  inflating: __MACOSX/test/._C9765.png  \n",
            "  inflating: test/10a59.png          \n",
            "  inflating: __MACOSX/test/._10a59.png  \n",
            "  inflating: test/C0B6E.png          \n",
            "  inflating: __MACOSX/test/._C0B6E.png  \n",
            "  inflating: test/CDEA5.png          \n",
            "  inflating: __MACOSX/test/._CDEA5.png  \n",
            "  inflating: test/d21e8.png          \n",
            "  inflating: __MACOSX/test/._d21e8.png  \n",
            "  inflating: test/7D676.png          \n",
            "  inflating: __MACOSX/test/._7D676.png  \n",
            "  inflating: test/EB101.png          \n",
            "  inflating: __MACOSX/test/._EB101.png  \n",
            "  inflating: test/9aae5.png          \n",
            "  inflating: __MACOSX/test/._9aae5.png  \n",
            "  inflating: test/EC2ED.png          \n",
            "  inflating: __MACOSX/test/._EC2ED.png  \n",
            "  inflating: test/A9893.png          \n",
            "  inflating: __MACOSX/test/._A9893.png  \n",
            "  inflating: test/48D4D.png          \n",
            "  inflating: __MACOSX/test/._48D4D.png  \n",
            "  inflating: test/BA66F.png          \n",
            "  inflating: __MACOSX/test/._BA66F.png  \n",
            "  inflating: test/76702.png          \n",
            "  inflating: __MACOSX/test/._76702.png  \n",
            "  inflating: test/62993.png          \n",
            "  inflating: __MACOSX/test/._62993.png  \n",
            "  inflating: test/E3EFF.png          \n",
            "  inflating: __MACOSX/test/._E3EFF.png  \n",
            "  inflating: test/E8C20.png          \n",
            "  inflating: __MACOSX/test/._E8C20.png  \n",
            "  inflating: test/60F69.png          \n",
            "  inflating: __MACOSX/test/._60F69.png  \n",
            "  inflating: test/40E85.png          \n",
            "  inflating: __MACOSX/test/._40E85.png  \n",
            "  inflating: test/136FB.png          \n",
            "  inflating: __MACOSX/test/._136FB.png  \n",
            "  inflating: test/EB5FF.png          \n",
            "  inflating: __MACOSX/test/._EB5FF.png  \n",
            "  inflating: test/D877D.png          \n",
            "  inflating: __MACOSX/test/._D877D.png  \n",
            "  inflating: test/9AE36.png          \n",
            "  inflating: __MACOSX/test/._9AE36.png  \n",
            "  inflating: test/885BB.png          \n",
            "  inflating: __MACOSX/test/._885BB.png  \n",
            "  inflating: test/8623B.png          \n",
            "  inflating: __MACOSX/test/._8623B.png  \n",
            "  inflating: test/BE0E9.png          \n",
            "  inflating: __MACOSX/test/._BE0E9.png  \n",
            "  inflating: test/589BD.png          \n",
            "  inflating: __MACOSX/test/._589BD.png  \n",
            "  inflating: test/E933E.png          \n",
            "  inflating: __MACOSX/test/._E933E.png  \n",
            "  inflating: test/8ab96.png          \n",
            "  inflating: __MACOSX/test/._8ab96.png  \n",
            "  inflating: test/9B509.png          \n",
            "  inflating: __MACOSX/test/._9B509.png  \n",
            "  inflating: test/dcfac.png          \n",
            "  inflating: __MACOSX/test/._dcfac.png  \n",
            "  inflating: test/f9bad.png          \n",
            "  inflating: __MACOSX/test/._f9bad.png  \n",
            "  inflating: test/57DF4.png          \n",
            "  inflating: __MACOSX/test/._57DF4.png  \n",
            "  inflating: test/394f3.png          \n",
            "  inflating: __MACOSX/test/._394f3.png  \n",
            "  inflating: test/c9c18.png          \n",
            "  inflating: __MACOSX/test/._c9c18.png  \n",
            "  inflating: test/16C0C.png          \n",
            "  inflating: __MACOSX/test/._16C0C.png  \n",
            "  inflating: test/E8EE4.png          \n",
            "  inflating: __MACOSX/test/._E8EE4.png  \n",
            "  inflating: test/89890.png          \n",
            "  inflating: __MACOSX/test/._89890.png  \n",
            "  inflating: test/EDFA9.png          \n",
            "  inflating: __MACOSX/test/._EDFA9.png  \n",
            "  inflating: test/A6F6F.png          \n",
            "  inflating: __MACOSX/test/._A6F6F.png  \n",
            "  inflating: test/86BB9.png          \n",
            "  inflating: __MACOSX/test/._86BB9.png  \n",
            "  inflating: test/6325D.png          \n",
            "  inflating: __MACOSX/test/._6325D.png  \n",
            "  inflating: test/BAC9C.png          \n",
            "  inflating: __MACOSX/test/._BAC9C.png  \n",
            "  inflating: test/481AE.png          \n",
            "  inflating: __MACOSX/test/._481AE.png  \n",
            "  inflating: test/b3703.png          \n",
            "  inflating: __MACOSX/test/._b3703.png  \n",
            "  inflating: test/56404.png          \n",
            "  inflating: __MACOSX/test/._56404.png  \n",
            "  inflating: test/390F7.png          \n",
            "  inflating: __MACOSX/test/._390F7.png  \n",
            "  inflating: test/8A830.png          \n",
            "  inflating: __MACOSX/test/._8A830.png  \n",
            "  inflating: test/C7789.png          \n",
            "  inflating: __MACOSX/test/._C7789.png  \n",
            "  inflating: test/488ED.png          \n",
            "  inflating: __MACOSX/test/._488ED.png  \n",
            "  inflating: test/E6AEC.png          \n",
            "  inflating: __MACOSX/test/._E6AEC.png  \n",
            "  inflating: test/C24E7.png          \n",
            "  inflating: __MACOSX/test/._C24E7.png  \n",
            "  inflating: test/B14AA.png          \n",
            "  inflating: __MACOSX/test/._B14AA.png  \n",
            "  inflating: test/C23A9.png          \n",
            "  inflating: __MACOSX/test/._C23A9.png  \n",
            "  inflating: test/C540C.png          \n",
            "  inflating: __MACOSX/test/._C540C.png  \n",
            "  inflating: test/C2430.png          \n",
            "  inflating: __MACOSX/test/._C2430.png  \n",
            "  inflating: test/52DDF.png          \n",
            "  inflating: __MACOSX/test/._52DDF.png  \n",
            "  inflating: test/290F2.png          \n",
            "  inflating: __MACOSX/test/._290F2.png  \n",
            "  inflating: test/f1929.png          \n",
            "  inflating: __MACOSX/test/._f1929.png  \n",
            "  inflating: test/A6579.png          \n",
            "  inflating: __MACOSX/test/._A6579.png  \n",
            "  inflating: test/b6c7f.png          \n",
            "  inflating: __MACOSX/test/._b6c7f.png  \n",
            "  inflating: test/2976A.png          \n",
            "  inflating: __MACOSX/test/._2976A.png  \n",
            "  inflating: test/26468.png          \n",
            "  inflating: __MACOSX/test/._26468.png  \n",
            "  inflating: test/A7677.png          \n",
            "  inflating: __MACOSX/test/._A7677.png  \n",
            "  inflating: test/DB473.png          \n",
            "  inflating: __MACOSX/test/._DB473.png  \n",
            "  inflating: test/F739F.png          \n",
            "  inflating: __MACOSX/test/._F739F.png  \n",
            "  inflating: test/CD268.png          \n",
            "  inflating: __MACOSX/test/._CD268.png  \n",
            "  inflating: test/CE6FE.png          \n",
            "  inflating: __MACOSX/test/._CE6FE.png  \n",
            "  inflating: test/9478D.png          \n",
            "  inflating: __MACOSX/test/._9478D.png  \n",
            "  inflating: test/C5F78.png          \n",
            "  inflating: __MACOSX/test/._C5F78.png  \n",
            "  inflating: test/F9A1E.png          \n",
            "  inflating: __MACOSX/test/._F9A1E.png  \n",
            "  inflating: test/A67CF.png          \n",
            "  inflating: __MACOSX/test/._A67CF.png  \n",
            "  inflating: test/32AE9.png          \n",
            "  inflating: __MACOSX/test/._32AE9.png  \n",
            "  inflating: test/75583.png          \n",
            "  inflating: __MACOSX/test/._75583.png  \n",
            "  inflating: test/7FEB2.png          \n",
            "  inflating: __MACOSX/test/._7FEB2.png  \n",
            "  inflating: test/c07cb.png          \n",
            "  inflating: __MACOSX/test/._c07cb.png  \n",
            "  inflating: test/391A7.png          \n",
            "  inflating: __MACOSX/test/._391A7.png  \n",
            "  inflating: test/8DAF5.png          \n",
            "  inflating: __MACOSX/test/._8DAF5.png  \n",
            "  inflating: test/ACBB4.png          \n",
            "  inflating: __MACOSX/test/._ACBB4.png  \n",
            "  inflating: test/D895F.png          \n",
            "  inflating: __MACOSX/test/._D895F.png  \n",
            "  inflating: test/C384C.png          \n",
            "  inflating: __MACOSX/test/._C384C.png  \n",
            "  inflating: test/66138.png          \n",
            "  inflating: __MACOSX/test/._66138.png  \n",
            "  inflating: test/D6B92.png          \n",
            "  inflating: __MACOSX/test/._D6B92.png  \n",
            "  inflating: test/C9366.png          \n",
            "  inflating: __MACOSX/test/._C9366.png  \n",
            "  inflating: test/AA8DB.png          \n",
            "  inflating: __MACOSX/test/._AA8DB.png  \n",
            "  inflating: test/259cd.png          \n",
            "  inflating: __MACOSX/test/._259cd.png  \n",
            "  inflating: test/ECDA7.png          \n",
            "  inflating: __MACOSX/test/._ECDA7.png  \n",
            "  inflating: test/9A7AF.png          \n",
            "  inflating: __MACOSX/test/._9A7AF.png  \n",
            "  inflating: test/60E27.png          \n",
            "  inflating: __MACOSX/test/._60E27.png  \n",
            "  inflating: test/f7e13.png          \n",
            "  inflating: __MACOSX/test/._f7e13.png  \n",
            "  inflating: test/770E3.png          \n",
            "  inflating: __MACOSX/test/._770E3.png  \n",
            "  inflating: test/5483C.png          \n",
            "  inflating: __MACOSX/test/._5483C.png  \n",
            "  inflating: test/f51cd.png          \n",
            "  inflating: __MACOSX/test/._f51cd.png  \n",
            "  inflating: test/967C6.png          \n",
            "  inflating: __MACOSX/test/._967C6.png  \n",
            "  inflating: test/9C410.png          \n",
            "  inflating: __MACOSX/test/._9C410.png  \n",
            "  inflating: test/F1327.png          \n",
            "  inflating: __MACOSX/test/._F1327.png  \n",
            "  inflating: test/B3ABF.png          \n",
            "  inflating: __MACOSX/test/._B3ABF.png  \n",
            "  inflating: test/203B1.png          \n",
            "  inflating: __MACOSX/test/._203B1.png  \n",
            "  inflating: test/362b5.png          \n",
            "  inflating: __MACOSX/test/._362b5.png  \n",
            "  inflating: test/35A22.png          \n",
            "  inflating: __MACOSX/test/._35A22.png  \n",
            "  inflating: test/e4b44.png          \n",
            "  inflating: __MACOSX/test/._e4b44.png  \n",
            "  inflating: test/A46DF.png          \n",
            "  inflating: __MACOSX/test/._A46DF.png  \n",
            "  inflating: test/D7519.png          \n",
            "  inflating: __MACOSX/test/._D7519.png  \n",
            "  inflating: test/8f828.png          \n",
            "  inflating: __MACOSX/test/._8f828.png  \n",
            "  inflating: test/8F81B.png          \n",
            "  inflating: __MACOSX/test/._8F81B.png  \n",
            "  inflating: test/E641B.png          \n",
            "  inflating: __MACOSX/test/._E641B.png  \n",
            "  inflating: test/2664E.png          \n",
            "  inflating: __MACOSX/test/._2664E.png  \n",
            "  inflating: test/FA5E5.png          \n",
            "  inflating: __MACOSX/test/._FA5E5.png  \n",
            "  inflating: test/76510.png          \n",
            "  inflating: __MACOSX/test/._76510.png  \n",
            "  inflating: test/12082.png          \n",
            "  inflating: __MACOSX/test/._12082.png  \n",
            "  inflating: test/9BC65.png          \n",
            "  inflating: __MACOSX/test/._9BC65.png  \n",
            "  inflating: test/7201D.png          \n",
            "  inflating: __MACOSX/test/._7201D.png  \n",
            "  inflating: test/F2EE2.png          \n",
            "  inflating: __MACOSX/test/._F2EE2.png  \n",
            "  inflating: test/c167f.png          \n",
            "  inflating: __MACOSX/test/._c167f.png  \n",
            "  inflating: test/191fc.png          \n",
            "  inflating: __MACOSX/test/._191fc.png  \n",
            "  inflating: test/21C43.png          \n",
            "  inflating: __MACOSX/test/._21C43.png  \n",
            "  inflating: test/60CD4.png          \n",
            "  inflating: __MACOSX/test/._60CD4.png  \n",
            "  inflating: test/F7191.png          \n",
            "  inflating: __MACOSX/test/._F7191.png  \n",
            "  inflating: test/C8D0C.png          \n",
            "  inflating: __MACOSX/test/._C8D0C.png  \n",
            "  inflating: test/752D2.png          \n",
            "  inflating: __MACOSX/test/._752D2.png  \n",
            "  inflating: test/d11b5.png          \n",
            "  inflating: __MACOSX/test/._d11b5.png  \n",
            "  inflating: test/3583D.png          \n",
            "  inflating: __MACOSX/test/._3583D.png  \n",
            "  inflating: test/5220A.png          \n",
            "  inflating: __MACOSX/test/._5220A.png  \n",
            "  inflating: test/BE261.png          \n",
            "  inflating: __MACOSX/test/._BE261.png  \n",
            "  inflating: test/BEEC3.png          \n",
            "  inflating: __MACOSX/test/._BEEC3.png  \n",
            "  inflating: test/91BE1.png          \n",
            "  inflating: __MACOSX/test/._91BE1.png  \n",
            "  inflating: test/23372.png          \n",
            "  inflating: __MACOSX/test/._23372.png  \n",
            "  inflating: test/82b62.png          \n",
            "  inflating: __MACOSX/test/._82b62.png  \n",
            "  inflating: test/A8A7A.png          \n",
            "  inflating: __MACOSX/test/._A8A7A.png  \n",
            "  inflating: test/AFC6E.png          \n",
            "  inflating: __MACOSX/test/._AFC6E.png  \n",
            "  inflating: test/DDCC0.png          \n",
            "  inflating: __MACOSX/test/._DDCC0.png  \n",
            "  inflating: test/287CF.png          \n",
            "  inflating: __MACOSX/test/._287CF.png  \n",
            "  inflating: test/58EB1.png          \n",
            "  inflating: __MACOSX/test/._58EB1.png  \n",
            "  inflating: test/246DB.png          \n",
            "  inflating: __MACOSX/test/._246DB.png  \n",
            "  inflating: test/B9D3E.png          \n",
            "  inflating: __MACOSX/test/._B9D3E.png  \n",
            "  inflating: test/BB91A.png          \n",
            "  inflating: __MACOSX/test/._BB91A.png  \n",
            "  inflating: test/CAF9B.png          \n",
            "  inflating: __MACOSX/test/._CAF9B.png  \n",
            "  inflating: test/C3570.png          \n",
            "  inflating: __MACOSX/test/._C3570.png  \n",
            "  inflating: test/BEFE1.png          \n",
            "  inflating: __MACOSX/test/._BEFE1.png  \n",
            "  inflating: test/D4713.png          \n",
            "  inflating: __MACOSX/test/._D4713.png  \n",
            "  inflating: test/E0BC6.png          \n",
            "  inflating: __MACOSX/test/._E0BC6.png  \n",
            "  inflating: test/D148D.png          \n",
            "  inflating: __MACOSX/test/._D148D.png  \n",
            "  inflating: test/E7BAA.png          \n",
            "  inflating: __MACOSX/test/._E7BAA.png  \n",
            "  inflating: test/AF046.png          \n",
            "  inflating: __MACOSX/test/._AF046.png  \n",
            "  inflating: test/63A15.png          \n",
            "  inflating: __MACOSX/test/._63A15.png  \n",
            "  inflating: test/e9e39.png          \n",
            "  inflating: __MACOSX/test/._e9e39.png  \n",
            "  inflating: test/62E45.png          \n",
            "  inflating: __MACOSX/test/._62E45.png  \n",
            "  inflating: test/FBE5A.png          \n",
            "  inflating: __MACOSX/test/._FBE5A.png  \n",
            "  inflating: test/47E10.png          \n",
            "  inflating: __MACOSX/test/._47E10.png  \n",
            "  inflating: test/F1B7E.png          \n",
            "  inflating: __MACOSX/test/._F1B7E.png  \n",
            "  inflating: test/92D77.png          \n",
            "  inflating: __MACOSX/test/._92D77.png  \n",
            "  inflating: test/9E82A.png          \n",
            "  inflating: __MACOSX/test/._9E82A.png  \n",
            "  inflating: test/9c265.png          \n",
            "  inflating: __MACOSX/test/._9c265.png  \n",
            "  inflating: test/FB26D.png          \n",
            "  inflating: __MACOSX/test/._FB26D.png  \n",
            "  inflating: test/5630F.png          \n",
            "  inflating: __MACOSX/test/._5630F.png  \n",
            "  inflating: test/FF0F3.png          \n",
            "  inflating: __MACOSX/test/._FF0F3.png  \n",
            "  inflating: test/DB99E.png          \n",
            "  inflating: __MACOSX/test/._DB99E.png  \n",
            "  inflating: test/225DC.png          \n",
            "  inflating: __MACOSX/test/._225DC.png  \n",
            "  inflating: test/A11E9.png          \n",
            "  inflating: __MACOSX/test/._A11E9.png  \n",
            "  inflating: test/DB95F.png          \n",
            "  inflating: __MACOSX/test/._DB95F.png  \n",
            "  inflating: test/F39A5.png          \n",
            "  inflating: __MACOSX/test/._F39A5.png  \n",
            "  inflating: test/BCA3E.png          \n",
            "  inflating: __MACOSX/test/._BCA3E.png  \n",
            "  inflating: test/78c27.png          \n",
            "  inflating: __MACOSX/test/._78c27.png  \n",
            "  inflating: test/CD4DA.png          \n",
            "  inflating: __MACOSX/test/._CD4DA.png  \n",
            "  inflating: test/7138A.png          \n",
            "  inflating: __MACOSX/test/._7138A.png  \n",
            "  inflating: test/8D3ED.png          \n",
            "  inflating: __MACOSX/test/._8D3ED.png  \n",
            "  inflating: test/af865.png          \n",
            "  inflating: __MACOSX/test/._af865.png  \n",
            "  inflating: test/906E0.png          \n",
            "  inflating: __MACOSX/test/._906E0.png  \n",
            "  inflating: test/F53EA.png          \n",
            "  inflating: __MACOSX/test/._F53EA.png  \n",
            "  inflating: test/B20B0.png          \n",
            "  inflating: __MACOSX/test/._B20B0.png  \n",
            "  inflating: test/93471.png          \n",
            "  inflating: __MACOSX/test/._93471.png  \n",
            "  inflating: test/19984.png          \n",
            "  inflating: __MACOSX/test/._19984.png  \n",
            "  inflating: test/29ACD.png          \n",
            "  inflating: __MACOSX/test/._29ACD.png  \n",
            "  inflating: test/433D7.png          \n",
            "  inflating: __MACOSX/test/._433D7.png  \n",
            "  inflating: test/F119B.png          \n",
            "  inflating: __MACOSX/test/._F119B.png  \n",
            "  inflating: test/ab3bb.png          \n",
            "  inflating: __MACOSX/test/._ab3bb.png  \n",
            "  inflating: test/98EAF.png          \n",
            "  inflating: __MACOSX/test/._98EAF.png  \n",
            "  inflating: test/A5D4B.png          \n",
            "  inflating: __MACOSX/test/._A5D4B.png  \n",
            "  inflating: test/FB317.png          \n",
            "  inflating: __MACOSX/test/._FB317.png  \n",
            "  inflating: test/E8ECA.png          \n",
            "  inflating: __MACOSX/test/._E8ECA.png  \n",
            "  inflating: test/131FF.png          \n",
            "  inflating: __MACOSX/test/._131FF.png  \n",
            "  inflating: test/D2C32.png          \n",
            "  inflating: __MACOSX/test/._D2C32.png  \n",
            "  inflating: test/14A75.png          \n",
            "  inflating: __MACOSX/test/._14A75.png  \n",
            "  inflating: test/DB6E9.png          \n",
            "  inflating: __MACOSX/test/._DB6E9.png  \n",
            "  inflating: test/A8BF5.png          \n",
            "  inflating: __MACOSX/test/._A8BF5.png  \n",
            "  inflating: test/C05D5.png          \n",
            "  inflating: __MACOSX/test/._C05D5.png  \n",
            "  inflating: test/21D41.png          \n",
            "  inflating: __MACOSX/test/._21D41.png  \n",
            "  inflating: test/ead07.png          \n",
            "  inflating: __MACOSX/test/._ead07.png  \n",
            "  inflating: test/353F6.png          \n",
            "  inflating: __MACOSX/test/._353F6.png  \n",
            "  inflating: test/A9188.png          \n",
            "  inflating: __MACOSX/test/._A9188.png  \n",
            "  inflating: test/b7072.png          \n",
            "  inflating: __MACOSX/test/._b7072.png  \n",
            "  inflating: test/f36e7.png          \n",
            "  inflating: __MACOSX/test/._f36e7.png  \n",
            "  inflating: test/9147F.png          \n",
            "  inflating: __MACOSX/test/._9147F.png  \n",
            "  inflating: test/101CC.png          \n",
            "  inflating: __MACOSX/test/._101CC.png  \n",
            "  inflating: test/65ead.png          \n",
            "  inflating: __MACOSX/test/._65ead.png  \n",
            "  inflating: test/2474B.png          \n",
            "  inflating: __MACOSX/test/._2474B.png  \n",
            "  inflating: test/B9BF9.png          \n",
            "  inflating: __MACOSX/test/._B9BF9.png  \n",
            "  inflating: test/DF3F1.png          \n",
            "  inflating: __MACOSX/test/._DF3F1.png  \n",
            "  inflating: test/85a26.png          \n",
            "  inflating: __MACOSX/test/._85a26.png  \n",
            "  inflating: test/c6369.png          \n",
            "  inflating: __MACOSX/test/._c6369.png  \n",
            "  inflating: test/F57DD.png          \n",
            "  inflating: __MACOSX/test/._F57DD.png  \n",
            "  inflating: test/8AA86.png          \n",
            "  inflating: __MACOSX/test/._8AA86.png  \n",
            "  inflating: test/DBA3E.png          \n",
            "  inflating: __MACOSX/test/._DBA3E.png  \n",
            "  inflating: test/3788F.png          \n",
            "  inflating: __MACOSX/test/._3788F.png  \n",
            "  inflating: test/273F2.png          \n",
            "  inflating: __MACOSX/test/._273F2.png  \n",
            "  inflating: test/9464D.png          \n",
            "  inflating: __MACOSX/test/._9464D.png  \n",
            "  inflating: test/60099.png          \n",
            "  inflating: __MACOSX/test/._60099.png  \n",
            "  inflating: test/B31A1.png          \n",
            "  inflating: __MACOSX/test/._B31A1.png  \n",
            "  inflating: test/64ED6.png          \n",
            "  inflating: __MACOSX/test/._64ED6.png  \n",
            "  inflating: test/79709.png          \n",
            "  inflating: __MACOSX/test/._79709.png  \n",
            "  inflating: test/89C18.png          \n",
            "  inflating: __MACOSX/test/._89C18.png  \n",
            "  inflating: test/8AC52.png          \n",
            "  inflating: __MACOSX/test/._8AC52.png  \n",
            "  inflating: test/42e0d.png          \n",
            "  inflating: __MACOSX/test/._42e0d.png  \n",
            "  inflating: test/51920.png          \n",
            "  inflating: __MACOSX/test/._51920.png  \n",
            "  inflating: test/26202.png          \n",
            "  inflating: __MACOSX/test/._26202.png  \n",
            "  inflating: test/C4F68.png          \n",
            "  inflating: __MACOSX/test/._C4F68.png  \n",
            "  inflating: test/D432E.png          \n",
            "  inflating: __MACOSX/test/._D432E.png  \n",
            "  inflating: test/e6069.png          \n",
            "  inflating: __MACOSX/test/._e6069.png  \n",
            "  inflating: test/11492.png          \n",
            "  inflating: __MACOSX/test/._11492.png  \n",
            "  inflating: test/E3AA9.png          \n",
            "  inflating: __MACOSX/test/._E3AA9.png  \n",
            "  inflating: test/A6DE1.png          \n",
            "  inflating: __MACOSX/test/._A6DE1.png  \n",
            "  inflating: test/68A1A.png          \n",
            "  inflating: __MACOSX/test/._68A1A.png  \n",
            "  inflating: test/BD6F3.png          \n",
            "  inflating: __MACOSX/test/._BD6F3.png  \n",
            "  inflating: test/36992.png          \n",
            "  inflating: __MACOSX/test/._36992.png  \n",
            "  inflating: test/34F8E.png          \n",
            "  inflating: __MACOSX/test/._34F8E.png  \n",
            "  inflating: test/14E4A.png          \n",
            "  inflating: __MACOSX/test/._14E4A.png  \n",
            "  inflating: test/331B7.png          \n",
            "  inflating: __MACOSX/test/._331B7.png  \n",
            "  inflating: test/DCDE6.png          \n",
            "  inflating: __MACOSX/test/._DCDE6.png  \n",
            "  inflating: test/77EB0.png          \n",
            "  inflating: __MACOSX/test/._77EB0.png  \n",
            "  inflating: test/7efdf.png          \n",
            "  inflating: __MACOSX/test/._7efdf.png  \n",
            "  inflating: test/801AF.png          \n",
            "  inflating: __MACOSX/test/._801AF.png  \n",
            "  inflating: test/ca03a.png          \n",
            "  inflating: __MACOSX/test/._ca03a.png  \n",
            "  inflating: test/8C87B.png          \n",
            "  inflating: __MACOSX/test/._8C87B.png  \n",
            "  inflating: test/3572A.png          \n",
            "  inflating: __MACOSX/test/._3572A.png  \n",
            "  inflating: test/eb5cb.png          \n",
            "  inflating: __MACOSX/test/._eb5cb.png  \n",
            "  inflating: test/CFFA8.png          \n",
            "  inflating: __MACOSX/test/._CFFA8.png  \n",
            "  inflating: test/DA4AB.png          \n",
            "  inflating: __MACOSX/test/._DA4AB.png  \n",
            "  inflating: test/8BC30.png          \n",
            "  inflating: __MACOSX/test/._8BC30.png  \n",
            "  inflating: test/7462a.png          \n",
            "  inflating: __MACOSX/test/._7462a.png  \n",
            "  inflating: test/Cbd2c.png          \n",
            "  inflating: __MACOSX/test/._Cbd2c.png  \n",
            "  inflating: test/CF83A.png          \n",
            "  inflating: __MACOSX/test/._CF83A.png  \n",
            "  inflating: test/aee29.png          \n",
            "  inflating: __MACOSX/test/._aee29.png  \n",
            "  inflating: test/E1854.png          \n",
            "  inflating: __MACOSX/test/._E1854.png  \n",
            "  inflating: test/9C7E1.png          \n",
            "  inflating: __MACOSX/test/._9C7E1.png  \n",
            "  inflating: test/bd99b.png          \n",
            "  inflating: __MACOSX/test/._bd99b.png  \n",
            "  inflating: test/D0018.png          \n",
            "  inflating: __MACOSX/test/._D0018.png  \n",
            "  inflating: test/30267.png          \n",
            "  inflating: __MACOSX/test/._30267.png  \n",
            "  inflating: test/E53A6.png          \n",
            "  inflating: __MACOSX/test/._E53A6.png  \n",
            "  inflating: test/65B23.png          \n",
            "  inflating: __MACOSX/test/._65B23.png  \n",
            "  inflating: test/F526C.png          \n",
            "  inflating: __MACOSX/test/._F526C.png  \n",
            "  inflating: test/62E58.png          \n",
            "  inflating: __MACOSX/test/._62E58.png  \n",
            "  inflating: test/D5A19.png          \n",
            "  inflating: __MACOSX/test/._D5A19.png  \n",
            "  inflating: test/8C916.png          \n",
            "  inflating: __MACOSX/test/._8C916.png  \n",
            "  inflating: test/A6710.png          \n",
            "  inflating: __MACOSX/test/._A6710.png  \n",
            "  inflating: test/F0FFC.png          \n",
            "  inflating: __MACOSX/test/._F0FFC.png  \n",
            "  inflating: test/fa038.png          \n",
            "  inflating: __MACOSX/test/._fa038.png  \n",
            "  inflating: test/7DD7E.png          \n",
            "  inflating: __MACOSX/test/._7DD7E.png  \n",
            "  inflating: test/851B2.png          \n",
            "  inflating: __MACOSX/test/._851B2.png  \n",
            "  inflating: test/BE65D.png          \n",
            "  inflating: __MACOSX/test/._BE65D.png  \n",
            "  inflating: test/A4FD1.png          \n",
            "  inflating: __MACOSX/test/._A4FD1.png  \n",
            "  inflating: test/884AD.png          \n",
            "  inflating: __MACOSX/test/._884AD.png  \n",
            "  inflating: test/BA346.png          \n",
            "  inflating: __MACOSX/test/._BA346.png  \n",
            "  inflating: test/B1157.png          \n",
            "  inflating: __MACOSX/test/._B1157.png  \n",
            "  inflating: test/7e110.png          \n",
            "  inflating: __MACOSX/test/._7e110.png  \n",
            "  inflating: test/CDA36.png          \n",
            "  inflating: __MACOSX/test/._CDA36.png  \n",
            "  inflating: test/F771F.png          \n",
            "  inflating: __MACOSX/test/._F771F.png  \n",
            "  inflating: test/A9580.png          \n",
            "  inflating: __MACOSX/test/._A9580.png  \n",
            "  inflating: test/422E3.png          \n",
            "  inflating: __MACOSX/test/._422E3.png  \n",
            "  inflating: test/41B22.png          \n",
            "  inflating: __MACOSX/test/._41B22.png  \n",
            "  inflating: test/14E79.png          \n",
            "  inflating: __MACOSX/test/._14E79.png  \n",
            "  inflating: test/54683.png          \n",
            "  inflating: __MACOSX/test/._54683.png  \n",
            "  inflating: test/C5E7C.png          \n",
            "  inflating: __MACOSX/test/._C5E7C.png  \n",
            "  inflating: test/e0cf1.png          \n",
            "  inflating: __MACOSX/test/._e0cf1.png  \n",
            "  inflating: test/39C7D.png          \n",
            "  inflating: __MACOSX/test/._39C7D.png  \n",
            "  inflating: test/a978d.png          \n",
            "  inflating: __MACOSX/test/._a978d.png  \n",
            "  inflating: test/4274c.png          \n",
            "  inflating: __MACOSX/test/._4274c.png  \n",
            "  inflating: test/109A9.png          \n",
            "  inflating: __MACOSX/test/._109A9.png  \n",
            "  inflating: test/CEF0F.png          \n",
            "  inflating: __MACOSX/test/._CEF0F.png  \n",
            "  inflating: test/8FCCA.png          \n",
            "  inflating: __MACOSX/test/._8FCCA.png  \n",
            "  inflating: test/ECC9C.png          \n",
            "  inflating: __MACOSX/test/._ECC9C.png  \n",
            "  inflating: test/27AA1.png          \n",
            "  inflating: __MACOSX/test/._27AA1.png  \n",
            "  inflating: test/715E8.png          \n",
            "  inflating: __MACOSX/test/._715E8.png  \n",
            "  inflating: test/502CE.png          \n",
            "  inflating: __MACOSX/test/._502CE.png  \n",
            "  inflating: test/157E3.png          \n",
            "  inflating: __MACOSX/test/._157E3.png  \n",
            "  inflating: test/B21A5.png          \n",
            "  inflating: __MACOSX/test/._B21A5.png  \n",
            "  inflating: test/AF561.png          \n",
            "  inflating: __MACOSX/test/._AF561.png  \n",
            "  inflating: test/7872C.png          \n",
            "  inflating: __MACOSX/test/._7872C.png  \n",
            "  inflating: test/79D8E.png          \n",
            "  inflating: __MACOSX/test/._79D8E.png  \n",
            "  inflating: test/3831C.png          \n",
            "  inflating: __MACOSX/test/._3831C.png  \n",
            "  inflating: test/8EC7E.png          \n",
            "  inflating: __MACOSX/test/._8EC7E.png  \n",
            "  inflating: test/BA4C3.png          \n",
            "  inflating: __MACOSX/test/._BA4C3.png  \n",
            "  inflating: test/F853A.png          \n",
            "  inflating: __MACOSX/test/._F853A.png  \n",
            "  inflating: test/10B2A.png          \n",
            "  inflating: __MACOSX/test/._10B2A.png  \n",
            "  inflating: test/17EAE.png          \n",
            "  inflating: __MACOSX/test/._17EAE.png  \n",
            "  inflating: test/97DD9.png          \n",
            "  inflating: __MACOSX/test/._97DD9.png  \n",
            "  inflating: test/ac2ef.png          \n",
            "  inflating: __MACOSX/test/._ac2ef.png  \n",
            "  inflating: test/4527c.png          \n",
            "  inflating: __MACOSX/test/._4527c.png  \n",
            "  inflating: test/C4C8B.png          \n",
            "  inflating: __MACOSX/test/._C4C8B.png  \n",
            "  inflating: test/70580.png          \n",
            "  inflating: __MACOSX/test/._70580.png  \n",
            "  inflating: test/7fc70.png          \n",
            "  inflating: __MACOSX/test/._7fc70.png  \n",
            "  inflating: test/700E4.png          \n",
            "  inflating: __MACOSX/test/._700E4.png  \n",
            "  inflating: test/B8B2D.png          \n",
            "  inflating: __MACOSX/test/._B8B2D.png  \n",
            "  inflating: test/2295D.png          \n",
            "  inflating: __MACOSX/test/._2295D.png  \n",
            "  inflating: test/7D093.png          \n",
            "  inflating: __MACOSX/test/._7D093.png  \n",
            "  inflating: test/E19A9.png          \n",
            "  inflating: __MACOSX/test/._E19A9.png  \n",
            "  inflating: test/A5696.png          \n",
            "  inflating: __MACOSX/test/._A5696.png  \n",
            "  inflating: test/b71c0.png          \n",
            "  inflating: __MACOSX/test/._b71c0.png  \n",
            "  inflating: test/c173c.png          \n",
            "  inflating: __MACOSX/test/._c173c.png  \n",
            "  inflating: test/AAAFC.png          \n",
            "  inflating: __MACOSX/test/._AAAFC.png  \n",
            "  inflating: test/E5516.png          \n",
            "  inflating: __MACOSX/test/._E5516.png  \n",
            "  inflating: test/CA726.png          \n",
            "  inflating: __MACOSX/test/._CA726.png  \n",
            "  inflating: test/8154B.png          \n",
            "  inflating: __MACOSX/test/._8154B.png  \n",
            "  inflating: test/B3A7B.png          \n",
            "  inflating: __MACOSX/test/._B3A7B.png  \n",
            "  inflating: test/c2957.png          \n",
            "  inflating: __MACOSX/test/._c2957.png  \n",
            "  inflating: test/BCC71.png          \n",
            "  inflating: __MACOSX/test/._BCC71.png  \n",
            "  inflating: test/E2C65.png          \n",
            "  inflating: __MACOSX/test/._E2C65.png  \n",
            "  inflating: test/9B07C.png          \n",
            "  inflating: __MACOSX/test/._9B07C.png  \n",
            "  inflating: test/E1AEF.png          \n",
            "  inflating: __MACOSX/test/._E1AEF.png  \n",
            "   creating: train/\n",
            "  inflating: __MACOSX/._train        \n",
            "  inflating: train/C1107.png         \n",
            "  inflating: __MACOSX/train/._C1107.png  \n",
            "  inflating: train/8A1A4.png         \n",
            "  inflating: __MACOSX/train/._8A1A4.png  \n",
            "  inflating: train/526ae.png         \n",
            "  inflating: __MACOSX/train/._526ae.png  \n",
            "  inflating: train/F85E9.png         \n",
            "  inflating: __MACOSX/train/._F85E9.png  \n",
            "  inflating: train/E4364.png         \n",
            "  inflating: __MACOSX/train/._E4364.png  \n",
            "  inflating: train/94F60.png         \n",
            "  inflating: __MACOSX/train/._94F60.png  \n",
            "  inflating: train/26095.png         \n",
            "  inflating: __MACOSX/train/._26095.png  \n",
            "  inflating: train/A5CC0.png         \n",
            "  inflating: __MACOSX/train/._A5CC0.png  \n",
            "  inflating: train/edaec.png         \n",
            "  inflating: __MACOSX/train/._edaec.png  \n",
            "  inflating: train/E0C9F.png         \n",
            "  inflating: __MACOSX/train/._E0C9F.png  \n",
            "  inflating: train/47682.png         \n",
            "  inflating: __MACOSX/train/._47682.png  \n",
            "  inflating: train/4713E.png         \n",
            "  inflating: __MACOSX/train/._4713E.png  \n",
            "  inflating: train/D9FE9.png         \n",
            "  inflating: __MACOSX/train/._D9FE9.png  \n",
            "  inflating: train/95713.png         \n",
            "  inflating: __MACOSX/train/._95713.png  \n",
            "  inflating: train/9967E.png         \n",
            "  inflating: __MACOSX/train/._9967E.png  \n",
            "  inflating: train/F6102.png         \n",
            "  inflating: __MACOSX/train/._F6102.png  \n",
            "  inflating: train/9D18B.png         \n",
            "  inflating: __MACOSX/train/._9D18B.png  \n",
            "  inflating: train/FBF68.png         \n",
            "  inflating: __MACOSX/train/._FBF68.png  \n",
            "  inflating: train/CD64E.png         \n",
            "  inflating: __MACOSX/train/._CD64E.png  \n",
            "  inflating: train/CE207.png         \n",
            "  inflating: __MACOSX/train/._CE207.png  \n",
            "  inflating: train/B2218.png         \n",
            "  inflating: __MACOSX/train/._B2218.png  \n",
            "  inflating: train/cd6a8.png         \n",
            "  inflating: __MACOSX/train/._cd6a8.png  \n",
            "  inflating: train/44188.png         \n",
            "  inflating: __MACOSX/train/._44188.png  \n",
            "  inflating: train/E4365.png         \n",
            "  inflating: __MACOSX/train/._E4365.png  \n",
            "  inflating: train/16180.png         \n",
            "  inflating: __MACOSX/train/._16180.png  \n",
            "  inflating: train/EF011.png         \n",
            "  inflating: __MACOSX/train/._EF011.png  \n",
            "  inflating: train/57057.png         \n",
            "  inflating: __MACOSX/train/._57057.png  \n",
            "  inflating: train/174B8.png         \n",
            "  inflating: __MACOSX/train/._174B8.png  \n",
            "  inflating: train/B1895.png         \n",
            "  inflating: __MACOSX/train/._B1895.png  \n",
            "  inflating: train/D49C0.png         \n",
            "  inflating: __MACOSX/train/._D49C0.png  \n",
            "  inflating: train/9863D.png         \n",
            "  inflating: __MACOSX/train/._9863D.png  \n",
            "  inflating: train/BE61D.png         \n",
            "  inflating: __MACOSX/train/._BE61D.png  \n",
            "  inflating: train/D8604.png         \n",
            "  inflating: __MACOSX/train/._D8604.png  \n",
            "  inflating: train/8E1E9.png         \n",
            "  inflating: __MACOSX/train/._8E1E9.png  \n",
            "  inflating: train/C47D3.png         \n",
            "  inflating: __MACOSX/train/._C47D3.png  \n",
            "  inflating: train/13403.png         \n",
            "  inflating: __MACOSX/train/._13403.png  \n",
            "  inflating: train/9E463.png         \n",
            "  inflating: __MACOSX/train/._9E463.png  \n",
            "  inflating: train/F4A54.png         \n",
            "  inflating: __MACOSX/train/._F4A54.png  \n",
            "  inflating: train/EF429.png         \n",
            "  inflating: __MACOSX/train/._EF429.png  \n",
            "  inflating: train/68066.png         \n",
            "  inflating: __MACOSX/train/._68066.png  \n",
            "  inflating: train/8AD4C.png         \n",
            "  inflating: __MACOSX/train/._8AD4C.png  \n",
            "  inflating: train/E050A.png         \n",
            "  inflating: __MACOSX/train/._E050A.png  \n",
            "  inflating: train/A05D6.png         \n",
            "  inflating: __MACOSX/train/._A05D6.png  \n",
            "  inflating: train/D7080.png         \n",
            "  inflating: __MACOSX/train/._D7080.png  \n",
            "  inflating: train/8A61F.png         \n",
            "  inflating: __MACOSX/train/._8A61F.png  \n",
            "  inflating: train/9F350.png         \n",
            "  inflating: __MACOSX/train/._9F350.png  \n",
            "  inflating: train/EE48E.png         \n",
            "  inflating: __MACOSX/train/._EE48E.png  \n",
            "  inflating: train/B2340.png         \n",
            "  inflating: __MACOSX/train/._B2340.png  \n",
            "  inflating: train/58D82.png         \n",
            "  inflating: __MACOSX/train/._58D82.png  \n",
            "  inflating: train/DC58A.png         \n",
            "  inflating: __MACOSX/train/._DC58A.png  \n",
            "  inflating: train/BAB25.png         \n",
            "  inflating: __MACOSX/train/._BAB25.png  \n",
            "  inflating: train/DFB8D.png         \n",
            "  inflating: __MACOSX/train/._DFB8D.png  \n",
            "  inflating: train/d94a9.png         \n",
            "  inflating: __MACOSX/train/._d94a9.png  \n",
            "  inflating: train/75DA7.png         \n",
            "  inflating: __MACOSX/train/._75DA7.png  \n",
            "  inflating: train/bfe89.png         \n",
            "  inflating: __MACOSX/train/._bfe89.png  \n",
            "  inflating: train/B740D.png         \n",
            "  inflating: __MACOSX/train/._B740D.png  \n",
            "  inflating: train/E7873.png         \n",
            "  inflating: __MACOSX/train/._E7873.png  \n",
            "  inflating: train/F39FB.png         \n",
            "  inflating: __MACOSX/train/._F39FB.png  \n",
            "  inflating: train/8F590.png         \n",
            "  inflating: __MACOSX/train/._8F590.png  \n",
            "  inflating: train/EDC21.png         \n",
            "  inflating: __MACOSX/train/._EDC21.png  \n",
            "  inflating: train/20A01.png         \n",
            "  inflating: __MACOSX/train/._20A01.png  \n",
            "  inflating: train/9A0D8.png         \n",
            "  inflating: __MACOSX/train/._9A0D8.png  \n",
            "  inflating: train/37CD0.png         \n",
            "  inflating: __MACOSX/train/._37CD0.png  \n",
            "  inflating: train/78D2B.png         \n",
            "  inflating: __MACOSX/train/._78D2B.png  \n",
            "  inflating: train/73BFB.png         \n",
            "  inflating: __MACOSX/train/._73BFB.png  \n",
            "  inflating: train/4765F.png         \n",
            "  inflating: __MACOSX/train/._4765F.png  \n",
            "  inflating: train/82531.png         \n",
            "  inflating: __MACOSX/train/._82531.png  \n",
            "  inflating: train/20A1B.png         \n",
            "  inflating: __MACOSX/train/._20A1B.png  \n",
            "  inflating: train/7997E.png         \n",
            "  inflating: __MACOSX/train/._7997E.png  \n",
            "  inflating: train/BA707.png         \n",
            "  inflating: __MACOSX/train/._BA707.png  \n",
            "  inflating: train/82294.png         \n",
            "  inflating: __MACOSX/train/._82294.png  \n",
            "  inflating: train/AC0F3.png         \n",
            "  inflating: __MACOSX/train/._AC0F3.png  \n",
            "  inflating: train/BBB7C.png         \n",
            "  inflating: __MACOSX/train/._BBB7C.png  \n",
            "  inflating: train/9593F.png         \n",
            "  inflating: __MACOSX/train/._9593F.png  \n",
            "  inflating: train/E986E.png         \n",
            "  inflating: __MACOSX/train/._E986E.png  \n",
            "  inflating: train/C8251.png         \n",
            "  inflating: __MACOSX/train/._C8251.png  \n",
            "  inflating: train/9CDBA.png         \n",
            "  inflating: __MACOSX/train/._9CDBA.png  \n",
            "  inflating: train/B4877.png         \n",
            "  inflating: __MACOSX/train/._B4877.png  \n",
            "  inflating: train/50729.png         \n",
            "  inflating: __MACOSX/train/._50729.png  \n",
            "  inflating: train/97BDD.png         \n",
            "  inflating: __MACOSX/train/._97BDD.png  \n",
            "  inflating: train/722F2.png         \n",
            "  inflating: __MACOSX/train/._722F2.png  \n",
            "  inflating: train/FD850.png         \n",
            "  inflating: __MACOSX/train/._FD850.png  \n",
            "  inflating: train/19103.png         \n",
            "  inflating: __MACOSX/train/._19103.png  \n",
            "  inflating: train/DED03.png         \n",
            "  inflating: __MACOSX/train/._DED03.png  \n",
            "  inflating: train/27947.png         \n",
            "  inflating: __MACOSX/train/._27947.png  \n",
            "  inflating: train/A013D.png         \n",
            "  inflating: __MACOSX/train/._A013D.png  \n",
            "  inflating: train/bc9d2.png         \n",
            "  inflating: __MACOSX/train/._bc9d2.png  \n",
            "  inflating: train/E54D6.png         \n",
            "  inflating: __MACOSX/train/._E54D6.png  \n",
            "  inflating: train/95FA8.png         \n",
            "  inflating: __MACOSX/train/._95FA8.png  \n",
            "  inflating: train/A57AF.png         \n",
            "  inflating: __MACOSX/train/._A57AF.png  \n",
            "  inflating: train/21DBB.png         \n",
            "  inflating: __MACOSX/train/._21DBB.png  \n",
            "  inflating: train/900e5.png         \n",
            "  inflating: __MACOSX/train/._900e5.png  \n",
            "  inflating: train/22864.png         \n",
            "  inflating: __MACOSX/train/._22864.png  \n",
            "  inflating: train/B2118.png         \n",
            "  inflating: __MACOSX/train/._B2118.png  \n",
            "  inflating: train/8B380.png         \n",
            "  inflating: __MACOSX/train/._8B380.png  \n",
            "  inflating: train/FC816.png         \n",
            "  inflating: __MACOSX/train/._FC816.png  \n",
            "  inflating: train/51493.png         \n",
            "  inflating: __MACOSX/train/._51493.png  \n",
            "  inflating: train/FCA1F.png         \n",
            "  inflating: __MACOSX/train/._FCA1F.png  \n",
            "  inflating: train/405a2.png         \n",
            "  inflating: __MACOSX/train/._405a2.png  \n",
            "  inflating: train/180BE.png         \n",
            "  inflating: __MACOSX/train/._180BE.png  \n",
            "  inflating: train/766E9.png         \n",
            "  inflating: __MACOSX/train/._766E9.png  \n",
            "  inflating: train/AE60B.png         \n",
            "  inflating: __MACOSX/train/._AE60B.png  \n",
            "  inflating: train/57800.png         \n",
            "  inflating: __MACOSX/train/._57800.png  \n",
            "  inflating: train/87AD2.png         \n",
            "  inflating: __MACOSX/train/._87AD2.png  \n",
            "  inflating: train/12D72.png         \n",
            "  inflating: __MACOSX/train/._12D72.png  \n",
            "  inflating: train/9D3EB.png         \n",
            "  inflating: __MACOSX/train/._9D3EB.png  \n",
            "  inflating: train/75C64.png         \n",
            "  inflating: __MACOSX/train/._75C64.png  \n",
            "  inflating: train/8A0AA.png         \n",
            "  inflating: __MACOSX/train/._8A0AA.png  \n",
            "  inflating: train/630E6.png         \n",
            "  inflating: __MACOSX/train/._630E6.png  \n",
            "  inflating: train/A7028.png         \n",
            "  inflating: __MACOSX/train/._A7028.png  \n",
            "  inflating: train/FBFD5.png         \n",
            "  inflating: __MACOSX/train/._FBFD5.png  \n",
            "  inflating: train/BD8FB.png         \n",
            "  inflating: __MACOSX/train/._BD8FB.png  \n",
            "  inflating: train/ECD00.png         \n",
            "  inflating: __MACOSX/train/._ECD00.png  \n",
            "  inflating: train/28BAD.png         \n",
            "  inflating: __MACOSX/train/._28BAD.png  \n",
            "  inflating: train/65cad.png         \n",
            "  inflating: __MACOSX/train/._65cad.png  \n",
            "  inflating: train/D4DDB.png         \n",
            "  inflating: __MACOSX/train/._D4DDB.png  \n",
            "  inflating: train/8C465.png         \n",
            "  inflating: __MACOSX/train/._8C465.png  \n",
            "  inflating: train/73592.png         \n",
            "  inflating: __MACOSX/train/._73592.png  \n",
            "  inflating: train/8B7C5.png         \n",
            "  inflating: __MACOSX/train/._8B7C5.png  \n",
            "  inflating: train/20FFA.png         \n",
            "  inflating: __MACOSX/train/._20FFA.png  \n",
            "  inflating: train/326C4.png         \n",
            "  inflating: __MACOSX/train/._326C4.png  \n",
            "  inflating: train/BFB60.png         \n",
            "  inflating: __MACOSX/train/._BFB60.png  \n",
            "  inflating: train/ED110.png         \n",
            "  inflating: __MACOSX/train/._ED110.png  \n",
            "  inflating: train/373FA.png         \n",
            "  inflating: __MACOSX/train/._373FA.png  \n",
            "  inflating: train/32522.png         \n",
            "  inflating: __MACOSX/train/._32522.png  \n",
            "  inflating: train/AAFED.png         \n",
            "  inflating: __MACOSX/train/._AAFED.png  \n",
            "  inflating: train/985D7.png         \n",
            "  inflating: __MACOSX/train/._985D7.png  \n",
            "  inflating: train/b15a0.png         \n",
            "  inflating: __MACOSX/train/._b15a0.png  \n",
            "  inflating: train/40610.png         \n",
            "  inflating: __MACOSX/train/._40610.png  \n",
            "  inflating: train/BC17F.png         \n",
            "  inflating: __MACOSX/train/._BC17F.png  \n",
            "  inflating: train/37C46.png         \n",
            "  inflating: __MACOSX/train/._37C46.png  \n",
            "  inflating: train/9F0CB.png         \n",
            "  inflating: __MACOSX/train/._9F0CB.png  \n",
            "  inflating: train/90A1D.png         \n",
            "  inflating: __MACOSX/train/._90A1D.png  \n",
            "  inflating: train/95978.png         \n",
            "  inflating: __MACOSX/train/._95978.png  \n",
            "  inflating: train/A6696.png         \n",
            "  inflating: __MACOSX/train/._A6696.png  \n",
            "  inflating: train/76A24.png         \n",
            "  inflating: __MACOSX/train/._76A24.png  \n",
            "  inflating: train/63EF6.png         \n",
            "  inflating: __MACOSX/train/._63EF6.png  \n",
            "  inflating: train/87FCA.png         \n",
            "  inflating: __MACOSX/train/._87FCA.png  \n",
            "  inflating: train/402FA.png         \n",
            "  inflating: __MACOSX/train/._402FA.png  \n",
            "  inflating: train/8E4F4.png         \n",
            "  inflating: __MACOSX/train/._8E4F4.png  \n",
            "  inflating: train/C834C.png         \n",
            "  inflating: __MACOSX/train/._C834C.png  \n",
            "  inflating: train/9F319.png         \n",
            "  inflating: __MACOSX/train/._9F319.png  \n",
            "  inflating: train/EC04B.png         \n",
            "  inflating: __MACOSX/train/._EC04B.png  \n",
            "  inflating: train/EE353.png         \n",
            "  inflating: __MACOSX/train/._EE353.png  \n",
            "  inflating: train/41A6C.png         \n",
            "  inflating: __MACOSX/train/._41A6C.png  \n",
            "  inflating: train/40002.png         \n",
            "  inflating: __MACOSX/train/._40002.png  \n",
            "  inflating: train/d3e71.png         \n",
            "  inflating: __MACOSX/train/._d3e71.png  \n",
            "  inflating: train/505C8.png         \n",
            "  inflating: __MACOSX/train/._505C8.png  \n",
            "  inflating: train/196F2.png         \n",
            "  inflating: __MACOSX/train/._196F2.png  \n",
            "  inflating: train/e810d.png         \n",
            "  inflating: __MACOSX/train/._e810d.png  \n",
            "  inflating: train/13C53.png         \n",
            "  inflating: __MACOSX/train/._13C53.png  \n",
            "  inflating: train/7F986.png         \n",
            "  inflating: __MACOSX/train/._7F986.png  \n",
            "  inflating: train/F0D31.png         \n",
            "  inflating: __MACOSX/train/._F0D31.png  \n",
            "  inflating: train/99944.png         \n",
            "  inflating: __MACOSX/train/._99944.png  \n",
            "  inflating: train/54908.png         \n",
            "  inflating: __MACOSX/train/._54908.png  \n",
            "  inflating: train/46C5F.png         \n",
            "  inflating: __MACOSX/train/._46C5F.png  \n",
            "  inflating: train/182A8.png         \n",
            "  inflating: __MACOSX/train/._182A8.png  \n",
            "  inflating: train/17616.png         \n",
            "  inflating: __MACOSX/train/._17616.png  \n",
            "  inflating: train/7EEAE.png         \n",
            "  inflating: __MACOSX/train/._7EEAE.png  \n",
            "  inflating: train/8D2CB.png         \n",
            "  inflating: __MACOSX/train/._8D2CB.png  \n",
            "  inflating: train/5A4B1.png         \n",
            "  inflating: __MACOSX/train/._5A4B1.png  \n",
            "  inflating: train/F67C8.png         \n",
            "  inflating: __MACOSX/train/._F67C8.png  \n",
            "  inflating: train/E5C11.png         \n",
            "  inflating: __MACOSX/train/._E5C11.png  \n",
            "  inflating: train/9B425.png         \n",
            "  inflating: __MACOSX/train/._9B425.png  \n",
            "  inflating: train/da8ab.png         \n",
            "  inflating: __MACOSX/train/._da8ab.png  \n",
            "  inflating: train/dc5f8.png         \n",
            "  inflating: __MACOSX/train/._dc5f8.png  \n",
            "  inflating: train/82802.png         \n",
            "  inflating: __MACOSX/train/._82802.png  \n",
            "  inflating: train/d61fa.png         \n",
            "  inflating: __MACOSX/train/._d61fa.png  \n",
            "  inflating: train/8AACC.png         \n",
            "  inflating: __MACOSX/train/._8AACC.png  \n",
            "  inflating: train/D47E8.png         \n",
            "  inflating: __MACOSX/train/._D47E8.png  \n",
            "  inflating: train/14FF7.png         \n",
            "  inflating: __MACOSX/train/._14FF7.png  \n",
            "  inflating: train/590E2.png         \n",
            "  inflating: __MACOSX/train/._590E2.png  \n",
            "  inflating: train/18733.png         \n",
            "  inflating: __MACOSX/train/._18733.png  \n",
            "  inflating: train/FB50D.png         \n",
            "  inflating: __MACOSX/train/._FB50D.png  \n",
            "  inflating: train/F7657.png         \n",
            "  inflating: __MACOSX/train/._F7657.png  \n",
            "  inflating: train/542A0.png         \n",
            "  inflating: __MACOSX/train/._542A0.png  \n",
            "  inflating: train/D884B.png         \n",
            "  inflating: __MACOSX/train/._D884B.png  \n",
            "  inflating: train/E8CC6.png         \n",
            "  inflating: __MACOSX/train/._E8CC6.png  \n",
            "  inflating: train/27299.png         \n",
            "  inflating: __MACOSX/train/._27299.png  \n",
            "  inflating: train/3838C.png         \n",
            "  inflating: __MACOSX/train/._3838C.png  \n",
            "  inflating: train/e2983.png         \n",
            "  inflating: __MACOSX/train/._e2983.png  \n",
            "  inflating: train/8C879.png         \n",
            "  inflating: __MACOSX/train/._8C879.png  \n",
            "  inflating: train/E7AF5.png         \n",
            "  inflating: __MACOSX/train/._E7AF5.png  \n",
            "  inflating: train/F32D4.png         \n",
            "  inflating: __MACOSX/train/._F32D4.png  \n",
            "  inflating: train/8F040.png         \n",
            "  inflating: __MACOSX/train/._8F040.png  \n",
            "  inflating: train/E98F6.png         \n",
            "  inflating: __MACOSX/train/._E98F6.png  \n",
            "  inflating: train/12A13.png         \n",
            "  inflating: __MACOSX/train/._12A13.png  \n",
            "  inflating: train/11C40.png         \n",
            "  inflating: __MACOSX/train/._11C40.png  \n",
            "  inflating: train/2157C.png         \n",
            "  inflating: __MACOSX/train/._2157C.png  \n",
            "  inflating: train/2984F.png         \n",
            "  inflating: __MACOSX/train/._2984F.png  \n",
            "  inflating: train/d9838.png         \n",
            "  inflating: __MACOSX/train/._d9838.png  \n",
            "  inflating: train/8E039.png         \n",
            "  inflating: __MACOSX/train/._8E039.png  \n",
            "  inflating: train/b9a8b.png         \n",
            "  inflating: __MACOSX/train/._b9a8b.png  \n",
            "  inflating: train/DEB66.png         \n",
            "  inflating: __MACOSX/train/._DEB66.png  \n",
            "  inflating: train/DDA4B.png         \n",
            "  inflating: __MACOSX/train/._DDA4B.png  \n",
            "  inflating: train/1844B.png         \n",
            "  inflating: __MACOSX/train/._1844B.png  \n",
            "  inflating: train/5670E.png         \n",
            "  inflating: __MACOSX/train/._5670E.png  \n",
            "  inflating: train/6725E.png         \n",
            "  inflating: __MACOSX/train/._6725E.png  \n",
            "  inflating: train/CDD48.png         \n",
            "  inflating: __MACOSX/train/._CDD48.png  \n",
            "  inflating: train/18487.png         \n",
            "  inflating: __MACOSX/train/._18487.png  \n",
            "  inflating: train/FFAD3.png         \n",
            "  inflating: __MACOSX/train/._FFAD3.png  \n",
            "  inflating: train/76612.png         \n",
            "  inflating: __MACOSX/train/._76612.png  \n",
            "  inflating: train/CE301.png         \n",
            "  inflating: __MACOSX/train/._CE301.png  \n",
            "  inflating: train/18901.png         \n",
            "  inflating: __MACOSX/train/._18901.png  \n",
            "  inflating: train/82181.png         \n",
            "  inflating: __MACOSX/train/._82181.png  \n",
            "  inflating: train/E97C4.png         \n",
            "  inflating: __MACOSX/train/._E97C4.png  \n",
            "  inflating: train/54ECF.png         \n",
            "  inflating: __MACOSX/train/._54ECF.png  \n",
            "  inflating: train/A0FA7.png         \n",
            "  inflating: __MACOSX/train/._A0FA7.png  \n",
            "  inflating: train/e6fdd.png         \n",
            "  inflating: __MACOSX/train/._e6fdd.png  \n",
            "  inflating: train/41451.png         \n",
            "  inflating: __MACOSX/train/._41451.png  \n",
            "  inflating: train/86f1e.png         \n",
            "  inflating: __MACOSX/train/._86f1e.png  \n",
            "  inflating: train/55D6E.png         \n",
            "  inflating: __MACOSX/train/._55D6E.png  \n",
            "  inflating: train/AA053.png         \n",
            "  inflating: __MACOSX/train/._AA053.png  \n",
            "  inflating: train/79128.png         \n",
            "  inflating: __MACOSX/train/._79128.png  \n",
            "  inflating: train/881f1.png         \n",
            "  inflating: __MACOSX/train/._881f1.png  \n",
            "  inflating: train/4700C.png         \n",
            "  inflating: __MACOSX/train/._4700C.png  \n",
            "  inflating: train/D2F49.png         \n",
            "  inflating: __MACOSX/train/._D2F49.png  \n",
            "  inflating: train/FAB9C.png         \n",
            "  inflating: __MACOSX/train/._FAB9C.png  \n",
            "  inflating: train/39B05.png         \n",
            "  inflating: __MACOSX/train/._39B05.png  \n",
            "  inflating: train/9db3c.png         \n",
            "  inflating: __MACOSX/train/._9db3c.png  \n",
            "  inflating: train/68541.png         \n",
            "  inflating: __MACOSX/train/._68541.png  \n",
            "  inflating: train/26AE4.png         \n",
            "  inflating: __MACOSX/train/._26AE4.png  \n",
            "  inflating: train/961F1.png         \n",
            "  inflating: __MACOSX/train/._961F1.png  \n",
            "  inflating: train/BB66B.png         \n",
            "  inflating: __MACOSX/train/._BB66B.png  \n",
            "  inflating: train/43a46.png         \n",
            "  inflating: __MACOSX/train/._43a46.png  \n",
            "  inflating: train/D5203.png         \n",
            "  inflating: __MACOSX/train/._D5203.png  \n",
            "  inflating: train/EF05D.png         \n",
            "  inflating: __MACOSX/train/._EF05D.png  \n",
            "  inflating: train/DC477.png         \n",
            "  inflating: __MACOSX/train/._DC477.png  \n",
            "  inflating: train/EBBB8.png         \n",
            "  inflating: __MACOSX/train/._EBBB8.png  \n",
            "  inflating: train/A4500.png         \n",
            "  inflating: __MACOSX/train/._A4500.png  \n",
            "  inflating: train/E193A.png         \n",
            "  inflating: __MACOSX/train/._E193A.png  \n",
            "  inflating: train/567ea.png         \n",
            "  inflating: __MACOSX/train/._567ea.png  \n",
            "  inflating: train/FFCF6.png         \n",
            "  inflating: __MACOSX/train/._FFCF6.png  \n",
            "  inflating: train/D0153.png         \n",
            "  inflating: __MACOSX/train/._D0153.png  \n",
            "  inflating: train/15F72.png         \n",
            "  inflating: __MACOSX/train/._15F72.png  \n",
            "  inflating: train/B5907.png         \n",
            "  inflating: __MACOSX/train/._B5907.png  \n",
            "  inflating: train/C8B8C.png         \n",
            "  inflating: __MACOSX/train/._C8B8C.png  \n",
            "  inflating: train/F5890.png         \n",
            "  inflating: __MACOSX/train/._F5890.png  \n",
            "  inflating: train/3657A.png         \n",
            "  inflating: __MACOSX/train/._3657A.png  \n",
            "  inflating: train/ec882.png         \n",
            "  inflating: __MACOSX/train/._ec882.png  \n",
            "  inflating: train/7E92B.png         \n",
            "  inflating: __MACOSX/train/._7E92B.png  \n",
            "  inflating: train/884AE.png         \n",
            "  inflating: __MACOSX/train/._884AE.png  \n",
            "  inflating: train/64D6B.png         \n",
            "  inflating: __MACOSX/train/._64D6B.png  \n",
            "  inflating: train/CED1E.png         \n",
            "  inflating: __MACOSX/train/._CED1E.png  \n",
            "  inflating: train/313B3.png         \n",
            "  inflating: __MACOSX/train/._313B3.png  \n",
            "  inflating: train/20507.png         \n",
            "  inflating: __MACOSX/train/._20507.png  \n",
            "  inflating: train/760DF.png         \n",
            "  inflating: __MACOSX/train/._760DF.png  \n",
            "  inflating: train/b45a1.png         \n",
            "  inflating: __MACOSX/train/._b45a1.png  \n",
            "  inflating: train/B32DD.png         \n",
            "  inflating: __MACOSX/train/._B32DD.png  \n",
            "  inflating: train/EE834.png         \n",
            "  inflating: __MACOSX/train/._EE834.png  \n",
            "  inflating: train/8304C.png         \n",
            "  inflating: __MACOSX/train/._8304C.png  \n",
            "  inflating: train/a129a.png         \n",
            "  inflating: __MACOSX/train/._a129a.png  \n",
            "  inflating: train/BA1B2.png         \n",
            "  inflating: __MACOSX/train/._BA1B2.png  \n",
            "  inflating: train/F89A4.png         \n",
            "  inflating: __MACOSX/train/._F89A4.png  \n",
            "  inflating: train/92A2A.png         \n",
            "  inflating: __MACOSX/train/._92A2A.png  \n",
            "  inflating: train/539F8.png         \n",
            "  inflating: __MACOSX/train/._539F8.png  \n",
            "  inflating: train/86f24.png         \n",
            "  inflating: __MACOSX/train/._86f24.png  \n",
            "  inflating: train/89B65.png         \n",
            "  inflating: __MACOSX/train/._89B65.png  \n",
            "  inflating: train/324C8.png         \n",
            "  inflating: __MACOSX/train/._324C8.png  \n",
            "  inflating: train/DB3CF.png         \n",
            "  inflating: __MACOSX/train/._DB3CF.png  \n",
            "  inflating: train/24E20.png         \n",
            "  inflating: __MACOSX/train/._24E20.png  \n",
            "  inflating: train/8D26C.png         \n",
            "  inflating: __MACOSX/train/._8D26C.png  \n",
            "  inflating: train/E1476.png         \n",
            "  inflating: __MACOSX/train/._E1476.png  \n",
            "  inflating: train/D2378.png         \n",
            "  inflating: __MACOSX/train/._D2378.png  \n",
            "  inflating: train/75B3A.png         \n",
            "  inflating: __MACOSX/train/._75B3A.png  \n",
            "  inflating: train/146A6.png         \n",
            "  inflating: __MACOSX/train/._146A6.png  \n",
            "  inflating: train/61E24.png         \n",
            "  inflating: __MACOSX/train/._61E24.png  \n",
            "  inflating: train/94065.png         \n",
            "  inflating: __MACOSX/train/._94065.png  \n",
            "  inflating: train/49D51.png         \n",
            "  inflating: __MACOSX/train/._49D51.png  \n",
            "  inflating: train/89FA2.png         \n",
            "  inflating: __MACOSX/train/._89FA2.png  \n",
            "  inflating: train/9A29E.png         \n",
            "  inflating: __MACOSX/train/._9A29E.png  \n",
            "  inflating: train/E9FA8.png         \n",
            "  inflating: __MACOSX/train/._E9FA8.png  \n",
            "  inflating: train/28956.png         \n",
            "  inflating: __MACOSX/train/._28956.png  \n",
            "  inflating: train/EC851.png         \n",
            "  inflating: __MACOSX/train/._EC851.png  \n",
            "  inflating: train/55981.png         \n",
            "  inflating: __MACOSX/train/._55981.png  \n",
            "  inflating: train/25043.png         \n",
            "  inflating: __MACOSX/train/._25043.png  \n",
            "  inflating: train/C2BD4.png         \n",
            "  inflating: __MACOSX/train/._C2BD4.png  \n",
            "  inflating: train/A098B.png         \n",
            "  inflating: __MACOSX/train/._A098B.png  \n",
            "  inflating: train/7D021.png         \n",
            "  inflating: __MACOSX/train/._7D021.png  \n",
            "  inflating: train/D20F9.png         \n",
            "  inflating: __MACOSX/train/._D20F9.png  \n",
            "  inflating: train/f7e9e.png         \n",
            "  inflating: __MACOSX/train/._f7e9e.png  \n",
            "  inflating: train/DEEDC.png         \n",
            "  inflating: __MACOSX/train/._DEEDC.png  \n",
            "  inflating: train/420F9.png         \n",
            "  inflating: __MACOSX/train/._420F9.png  \n",
            "  inflating: train/8E998.png         \n",
            "  inflating: __MACOSX/train/._8E998.png  \n",
            "  inflating: train/c94c1.png         \n",
            "  inflating: __MACOSX/train/._c94c1.png  \n",
            "  inflating: train/CCD77.png         \n",
            "  inflating: __MACOSX/train/._CCD77.png  \n",
            "  inflating: train/57F91.png         \n",
            "  inflating: __MACOSX/train/._57F91.png  \n",
            "  inflating: train/398A5.png         \n",
            "  inflating: __MACOSX/train/._398A5.png  \n",
            "  inflating: train/9735a.png         \n",
            "  inflating: __MACOSX/train/._9735a.png  \n",
            "  inflating: train/31EFA.png         \n",
            "  inflating: __MACOSX/train/._31EFA.png  \n",
            "  inflating: train/CD607.png         \n",
            "  inflating: __MACOSX/train/._CD607.png  \n",
            "  inflating: train/B6012.png         \n",
            "  inflating: __MACOSX/train/._B6012.png  \n",
            "  inflating: train/FAF8D.png         \n",
            "  inflating: __MACOSX/train/._FAF8D.png  \n",
            "  inflating: train/30117.png         \n",
            "  inflating: __MACOSX/train/._30117.png  \n",
            "  inflating: train/E3C84.png         \n",
            "  inflating: __MACOSX/train/._E3C84.png  \n",
            "  inflating: train/39127.png         \n",
            "  inflating: __MACOSX/train/._39127.png  \n",
            "  inflating: train/F27EA.png         \n",
            "  inflating: __MACOSX/train/._F27EA.png  \n",
            "  inflating: train/61E25.png         \n",
            "  inflating: __MACOSX/train/._61E25.png  \n",
            "  inflating: train/85800.png         \n",
            "  inflating: __MACOSX/train/._85800.png  \n",
            "  inflating: train/9A49B.png         \n",
            "  inflating: __MACOSX/train/._9A49B.png  \n",
            "  inflating: train/88D36.png         \n",
            "  inflating: __MACOSX/train/._88D36.png  \n",
            "  inflating: train/D1670.png         \n",
            "  inflating: __MACOSX/train/._D1670.png  \n",
            "  inflating: train/E1477.png         \n",
            "  inflating: __MACOSX/train/._E1477.png  \n",
            "  inflating: train/171B0.png         \n",
            "  inflating: __MACOSX/train/._171B0.png  \n",
            "  inflating: train/F9473.png         \n",
            "  inflating: __MACOSX/train/._F9473.png  \n",
            "  inflating: train/95F71.png         \n",
            "  inflating: __MACOSX/train/._95F71.png  \n",
            "  inflating: train/720CA.png         \n",
            "  inflating: __MACOSX/train/._720CA.png  \n",
            "  inflating: train/CBFD4.png         \n",
            "  inflating: __MACOSX/train/._CBFD4.png  \n",
            "  inflating: train/DE41E.png         \n",
            "  inflating: __MACOSX/train/._DE41E.png  \n",
            "  inflating: train/22673.png         \n",
            "  inflating: __MACOSX/train/._22673.png  \n",
            "  inflating: train/DC93A.png         \n",
            "  inflating: __MACOSX/train/._DC93A.png  \n",
            "  inflating: train/802FD.png         \n",
            "  inflating: __MACOSX/train/._802FD.png  \n",
            "  inflating: train/64F7C.png         \n",
            "  inflating: __MACOSX/train/._64F7C.png  \n",
            "  inflating: train/FBEAA.png         \n",
            "  inflating: __MACOSX/train/._FBEAA.png  \n",
            "  inflating: train/dc260.png         \n",
            "  inflating: __MACOSX/train/._dc260.png  \n",
            "  inflating: train/C5871.png         \n",
            "  inflating: __MACOSX/train/._C5871.png  \n",
            "  inflating: train/91863.png         \n",
            "  inflating: __MACOSX/train/._91863.png  \n",
            "  inflating: train/4472E.png         \n",
            "  inflating: __MACOSX/train/._4472E.png  \n",
            "  inflating: train/C3233.png         \n",
            "  inflating: __MACOSX/train/._C3233.png  \n",
            "  inflating: train/9B6F1.png         \n",
            "  inflating: __MACOSX/train/._9B6F1.png  \n",
            "  inflating: train/532AF.png         \n",
            "  inflating: __MACOSX/train/._532AF.png  \n",
            "  inflating: train/BB1D8.png         \n",
            "  inflating: __MACOSX/train/._BB1D8.png  \n",
            "  inflating: train/507A9.png         \n",
            "  inflating: __MACOSX/train/._507A9.png  \n",
            "  inflating: train/CF947.png         \n",
            "  inflating: __MACOSX/train/._CF947.png  \n",
            "  inflating: train/ACBF5.png         \n",
            "  inflating: __MACOSX/train/._ACBF5.png  \n",
            "  inflating: train/181F7.png         \n",
            "  inflating: __MACOSX/train/._181F7.png  \n",
            "  inflating: train/D6082.png         \n",
            "  inflating: __MACOSX/train/._D6082.png  \n",
            "  inflating: train/215BA.png         \n",
            "  inflating: __MACOSX/train/._215BA.png  \n",
            "  inflating: train/28564.png         \n",
            "  inflating: __MACOSX/train/._28564.png  \n",
            "  inflating: train/8AB39.png         \n",
            "  inflating: __MACOSX/train/._8AB39.png  \n",
            "  inflating: train/C9CAD.png         \n",
            "  inflating: __MACOSX/train/._C9CAD.png  \n",
            "  inflating: train/a702b.png         \n",
            "  inflating: __MACOSX/train/._a702b.png  \n",
            "  inflating: train/32E8B.png         \n",
            "  inflating: __MACOSX/train/._32E8B.png  \n",
            "  inflating: train/393DF.png         \n",
            "  inflating: __MACOSX/train/._393DF.png  \n",
            "  inflating: train/F86DF.png         \n",
            "  inflating: __MACOSX/train/._F86DF.png  \n",
            "  inflating: train/9C6B1.png         \n",
            "  inflating: __MACOSX/train/._9C6B1.png  \n",
            "  inflating: train/920FF.png         \n",
            "  inflating: __MACOSX/train/._920FF.png  \n",
            "  inflating: train/b857f.png         \n",
            "  inflating: __MACOSX/train/._b857f.png  \n",
            "  inflating: train/517f4.png         \n",
            "  inflating: __MACOSX/train/._517f4.png  \n",
            "  inflating: train/CE7E7.png         \n",
            "  inflating: __MACOSX/train/._CE7E7.png  \n",
            "  inflating: train/dd68a.png         \n",
            "  inflating: __MACOSX/train/._dd68a.png  \n",
            "  inflating: train/B43A1.png         \n",
            "  inflating: __MACOSX/train/._B43A1.png  \n",
            "  inflating: train/AA12E.png         \n",
            "  inflating: __MACOSX/train/._AA12E.png  \n",
            "  inflating: train/AFA86.png         \n",
            "  inflating: __MACOSX/train/._AFA86.png  \n",
            "  inflating: train/90188.png         \n",
            "  inflating: __MACOSX/train/._90188.png  \n",
            "  inflating: train/91E7B.png         \n",
            "  inflating: __MACOSX/train/._91E7B.png  \n",
            "  inflating: train/87cf5.png         \n",
            "  inflating: __MACOSX/train/._87cf5.png  \n",
            "  inflating: train/47439.png         \n",
            "  inflating: __MACOSX/train/._47439.png  \n",
            "  inflating: train/80172.png         \n",
            "  inflating: __MACOSX/train/._80172.png  \n",
            "  inflating: train/931EC.png         \n",
            "  inflating: __MACOSX/train/._931EC.png  \n",
            "  inflating: train/C1B64.png         \n",
            "  inflating: __MACOSX/train/._C1B64.png  \n",
            "  inflating: train/35aaf.png         \n",
            "  inflating: __MACOSX/train/._35aaf.png  \n",
            "  inflating: train/B37C4.png         \n",
            "  inflating: __MACOSX/train/._B37C4.png  \n",
            "  inflating: train/A10C7.png         \n",
            "  inflating: __MACOSX/train/._A10C7.png  \n",
            "  inflating: train/BB84A.png         \n",
            "  inflating: __MACOSX/train/._BB84A.png  \n",
            "  inflating: train/44939.png         \n",
            "  inflating: __MACOSX/train/._44939.png  \n",
            "  inflating: train/24997.png         \n",
            "  inflating: __MACOSX/train/._24997.png  \n",
            "  inflating: train/8C2C5.png         \n",
            "  inflating: __MACOSX/train/._8C2C5.png  \n",
            "  inflating: train/A1B15.png         \n",
            "  inflating: __MACOSX/train/._A1B15.png  \n",
            "  inflating: train/30BD2.png         \n",
            "  inflating: __MACOSX/train/._30BD2.png  \n",
            "  inflating: train/93244.png         \n",
            "  inflating: __MACOSX/train/._93244.png  \n",
            "  inflating: train/9FFE7.png         \n",
            "  inflating: __MACOSX/train/._9FFE7.png  \n",
            "  inflating: train/A91BA.png         \n",
            "  inflating: __MACOSX/train/._A91BA.png  \n",
            "  inflating: train/29026.png         \n",
            "  inflating: __MACOSX/train/._29026.png  \n",
            "  inflating: train/D07D7.png         \n",
            "  inflating: __MACOSX/train/._D07D7.png  \n",
            "  inflating: train/C0F9F.png         \n",
            "  inflating: __MACOSX/train/._C0F9F.png  \n",
            "  inflating: train/7e41c.png         \n",
            "  inflating: __MACOSX/train/._7e41c.png  \n",
            "  inflating: train/F1CCB.png         \n",
            "  inflating: __MACOSX/train/._F1CCB.png  \n",
            "  inflating: train/E4B77.png         \n",
            "  inflating: __MACOSX/train/._E4B77.png  \n",
            "  inflating: train/eec5f.png         \n",
            "  inflating: __MACOSX/train/._eec5f.png  \n",
            "  inflating: train/2e183.png         \n",
            "  inflating: __MACOSX/train/._2e183.png  \n",
            "  inflating: train/bd505.png         \n",
            "  inflating: __MACOSX/train/._bd505.png  \n",
            "  inflating: train/B72E2.png         \n",
            "  inflating: __MACOSX/train/._B72E2.png  \n",
            "  inflating: train/9C2E6.png         \n",
            "  inflating: __MACOSX/train/._9C2E6.png  \n",
            "  inflating: train/D53F6.png         \n",
            "  inflating: __MACOSX/train/._D53F6.png  \n",
            "  inflating: train/A9F13.png         \n",
            "  inflating: __MACOSX/train/._A9F13.png  \n",
            "  inflating: train/3BFC6.png         \n",
            "  inflating: __MACOSX/train/._3BFC6.png  \n",
            "  inflating: train/63A8D.png         \n",
            "  inflating: __MACOSX/train/._63A8D.png  \n",
            "  inflating: train/EA3AB.png         \n",
            "  inflating: __MACOSX/train/._EA3AB.png  \n",
            "  inflating: train/2FA9C.png         \n",
            "  inflating: __MACOSX/train/._2FA9C.png  \n",
            "  inflating: train/7F0A9.png         \n",
            "  inflating: __MACOSX/train/._7F0A9.png  \n",
            "  inflating: train/FFE59.png         \n",
            "  inflating: __MACOSX/train/._FFE59.png  \n",
            "  inflating: train/7331A.png         \n",
            "  inflating: __MACOSX/train/._7331A.png  \n",
            "  inflating: train/2C916.png         \n",
            "  inflating: __MACOSX/train/._2C916.png  \n",
            "  inflating: train/4D0EB.png         \n",
            "  inflating: __MACOSX/train/._4D0EB.png  \n",
            "  inflating: train/70811.png         \n",
            "  inflating: __MACOSX/train/._70811.png  \n",
            "  inflating: train/619D7.png         \n",
            "  inflating: __MACOSX/train/._619D7.png  \n",
            "  inflating: train/A3C28.png         \n",
            "  inflating: __MACOSX/train/._A3C28.png  \n",
            "  inflating: train/1A7BA.png         \n",
            "  inflating: __MACOSX/train/._1A7BA.png  \n",
            "  inflating: train/5afb0.png         \n",
            "  inflating: __MACOSX/train/._5afb0.png  \n",
            "  inflating: train/FA93D.png         \n",
            "  inflating: __MACOSX/train/._FA93D.png  \n",
            "  inflating: train/399A2.png         \n",
            "  inflating: __MACOSX/train/._399A2.png  \n",
            "  inflating: train/72592.png         \n",
            "  inflating: __MACOSX/train/._72592.png  \n",
            "  inflating: train/EB48C.png         \n",
            "  inflating: __MACOSX/train/._EB48C.png  \n",
            "  inflating: train/B0D43.png         \n",
            "  inflating: __MACOSX/train/._B0D43.png  \n",
            "  inflating: train/6A112.png         \n",
            "  inflating: __MACOSX/train/._6A112.png  \n",
            "  inflating: train/7DBF5.png         \n",
            "  inflating: __MACOSX/train/._7DBF5.png  \n",
            "  inflating: train/D8784.png         \n",
            "  inflating: __MACOSX/train/._D8784.png  \n",
            "  inflating: train/993D6.png         \n",
            "  inflating: __MACOSX/train/._993D6.png  \n",
            "  inflating: train/96990.png         \n",
            "  inflating: __MACOSX/train/._96990.png  \n",
            "  inflating: train/959E9.png         \n",
            "  inflating: __MACOSX/train/._959E9.png  \n",
            "  inflating: train/92937.png         \n",
            "  inflating: __MACOSX/train/._92937.png  \n",
            "  inflating: train/37d7d.png         \n",
            "  inflating: __MACOSX/train/._37d7d.png  \n",
            "  inflating: train/23CA2.png         \n",
            "  inflating: __MACOSX/train/._23CA2.png  \n",
            "  inflating: train/17055.png         \n",
            "  inflating: __MACOSX/train/._17055.png  \n",
            "  inflating: train/D8B6C.png         \n",
            "  inflating: __MACOSX/train/._D8B6C.png  \n",
            "  inflating: train/CA2CD.png         \n",
            "  inflating: __MACOSX/train/._CA2CD.png  \n",
            "  inflating: train/44419.png         \n",
            "  inflating: __MACOSX/train/._44419.png  \n",
            "  inflating: train/8A54F.png         \n",
            "  inflating: __MACOSX/train/._8A54F.png  \n",
            "  inflating: train/33F01.png         \n",
            "  inflating: __MACOSX/train/._33F01.png  \n",
            "  inflating: train/AA8FF.png         \n",
            "  inflating: __MACOSX/train/._AA8FF.png  \n",
            "  inflating: train/6D52A.png         \n",
            "  inflating: __MACOSX/train/._6D52A.png  \n",
            "  inflating: train/E5501.png         \n",
            "  inflating: __MACOSX/train/._E5501.png  \n",
            "  inflating: train/99F0E.png         \n",
            "  inflating: __MACOSX/train/._99F0E.png  \n",
            "  inflating: train/3C45A.png         \n",
            "  inflating: __MACOSX/train/._3C45A.png  \n",
            "  inflating: train/FAC57.png         \n",
            "  inflating: __MACOSX/train/._FAC57.png  \n",
            "  inflating: train/5C6FE.png         \n",
            "  inflating: __MACOSX/train/._5C6FE.png  \n",
            "  inflating: train/22b4f.png         \n",
            "  inflating: __MACOSX/train/._22b4f.png  \n",
            "  inflating: train/34D2D.png         \n",
            "  inflating: __MACOSX/train/._34D2D.png  \n",
            "  inflating: train/20362.png         \n",
            "  inflating: __MACOSX/train/._20362.png  \n",
            "  inflating: train/92e68.png         \n",
            "  inflating: __MACOSX/train/._92e68.png  \n",
            "  inflating: train/9C2EC.png         \n",
            "  inflating: __MACOSX/train/._9C2EC.png  \n",
            "  inflating: train/79DBC.png         \n",
            "  inflating: __MACOSX/train/._79DBC.png  \n",
            "  inflating: train/9924f.png         \n",
            "  inflating: __MACOSX/train/._9924f.png  \n",
            "  inflating: train/D7BEE.png         \n",
            "  inflating: __MACOSX/train/._D7BEE.png  \n",
            "  inflating: train/5A17E.png         \n",
            "  inflating: __MACOSX/train/._5A17E.png  \n",
            "  inflating: train/DC5C9.png         \n",
            "  inflating: __MACOSX/train/._DC5C9.png  \n",
            "  inflating: train/5EDDA.png         \n",
            "  inflating: __MACOSX/train/._5EDDA.png  \n",
            "  inflating: train/A8987.png         \n",
            "  inflating: __MACOSX/train/._A8987.png  \n",
            "  inflating: train/8FF5F.png         \n",
            "  inflating: __MACOSX/train/._8FF5F.png  \n",
            "  inflating: train/C3041.png         \n",
            "  inflating: __MACOSX/train/._C3041.png  \n",
            "  inflating: train/9c018.png         \n",
            "  inflating: __MACOSX/train/._9c018.png  \n",
            "  inflating: train/4e338.png         \n",
            "  inflating: __MACOSX/train/._4e338.png  \n",
            "  inflating: train/45F2F.png         \n",
            "  inflating: __MACOSX/train/._45F2F.png  \n",
            "  inflating: train/F6901.png         \n",
            "  inflating: __MACOSX/train/._F6901.png  \n",
            "  inflating: train/88F5D.png         \n",
            "  inflating: __MACOSX/train/._88F5D.png  \n",
            "  inflating: train/9F8D6.png         \n",
            "  inflating: __MACOSX/train/._9F8D6.png  \n",
            "  inflating: train/D14FE.png         \n",
            "  inflating: __MACOSX/train/._D14FE.png  \n",
            "  inflating: train/7063E.png         \n",
            "  inflating: __MACOSX/train/._7063E.png  \n",
            "  inflating: train/9D95B.png         \n",
            "  inflating: __MACOSX/train/._9D95B.png  \n",
            "  inflating: train/b352b.png         \n",
            "  inflating: __MACOSX/train/._b352b.png  \n",
            "  inflating: train/3B41E.png         \n",
            "  inflating: __MACOSX/train/._3B41E.png  \n",
            "  inflating: train/1F21B.png         \n",
            "  inflating: __MACOSX/train/._1F21B.png  \n",
            "  inflating: train/21695.png         \n",
            "  inflating: __MACOSX/train/._21695.png  \n",
            "  inflating: train/46168.png         \n",
            "  inflating: __MACOSX/train/._46168.png  \n",
            "  inflating: train/66284.png         \n",
            "  inflating: __MACOSX/train/._66284.png  \n",
            "  inflating: train/fb543.png         \n",
            "  inflating: __MACOSX/train/._fb543.png  \n",
            "  inflating: train/F2A13.png         \n",
            "  inflating: __MACOSX/train/._F2A13.png  \n",
            "  inflating: train/645E7.png         \n",
            "  inflating: __MACOSX/train/._645E7.png  \n",
            "  inflating: train/11a17.png         \n",
            "  inflating: __MACOSX/train/._11a17.png  \n",
            "  inflating: train/B485B.png         \n",
            "  inflating: __MACOSX/train/._B485B.png  \n",
            "  inflating: train/5e265.png         \n",
            "  inflating: __MACOSX/train/._5e265.png  \n",
            "  inflating: train/B6064.png         \n",
            "  inflating: __MACOSX/train/._B6064.png  \n",
            "  inflating: train/68134.png         \n",
            "  inflating: __MACOSX/train/._68134.png  \n",
            "  inflating: train/2F70B.png         \n",
            "  inflating: __MACOSX/train/._2F70B.png  \n",
            "  inflating: train/56970.png         \n",
            "  inflating: __MACOSX/train/._56970.png  \n",
            "  inflating: train/D85BA.png         \n",
            "  inflating: __MACOSX/train/._D85BA.png  \n",
            "  inflating: train/D823D.png         \n",
            "  inflating: __MACOSX/train/._D823D.png  \n",
            "  inflating: train/DA991.png         \n",
            "  inflating: __MACOSX/train/._DA991.png  \n",
            "  inflating: train/9F01F.png         \n",
            "  inflating: __MACOSX/train/._9F01F.png  \n",
            "  inflating: train/B43F4.png         \n",
            "  inflating: __MACOSX/train/._B43F4.png  \n",
            "  inflating: train/39D72.png         \n",
            "  inflating: __MACOSX/train/._39D72.png  \n",
            "  inflating: train/12A8B.png         \n",
            "  inflating: __MACOSX/train/._12A8B.png  \n",
            "  inflating: train/E7DD1.png         \n",
            "  inflating: __MACOSX/train/._E7DD1.png  \n",
            "  inflating: train/ad946.png         \n",
            "  inflating: __MACOSX/train/._ad946.png  \n",
            "  inflating: train/6E8E4.png         \n",
            "  inflating: __MACOSX/train/._6E8E4.png  \n",
            "  inflating: train/80C80.png         \n",
            "  inflating: __MACOSX/train/._80C80.png  \n",
            "  inflating: train/E6743.png         \n",
            "  inflating: __MACOSX/train/._E6743.png  \n",
            "  inflating: train/1A19C.png         \n",
            "  inflating: __MACOSX/train/._1A19C.png  \n",
            "  inflating: train/96bc4.png         \n",
            "  inflating: __MACOSX/train/._96bc4.png  \n",
            "  inflating: train/9C18D.png         \n",
            "  inflating: __MACOSX/train/._9C18D.png  \n",
            "  inflating: train/8B919.png         \n",
            "  inflating: __MACOSX/train/._8B919.png  \n",
            "  inflating: train/12A53.png         \n",
            "  inflating: __MACOSX/train/._12A53.png  \n",
            "  inflating: train/CDD21.png         \n",
            "  inflating: __MACOSX/train/._CDD21.png  \n",
            "  inflating: train/6FA58.png         \n",
            "  inflating: __MACOSX/train/._6FA58.png  \n",
            "  inflating: train/b554b.png         \n",
            "  inflating: __MACOSX/train/._b554b.png  \n",
            "  inflating: train/ACBC8.png         \n",
            "  inflating: __MACOSX/train/._ACBC8.png  \n",
            "  inflating: train/E8B65.png         \n",
            "  inflating: __MACOSX/train/._E8B65.png  \n",
            "  inflating: train/F6333.png         \n",
            "  inflating: __MACOSX/train/._F6333.png  \n",
            "  inflating: train/D3A3A.png         \n",
            "  inflating: __MACOSX/train/._D3A3A.png  \n",
            "  inflating: train/97CB8.png         \n",
            "  inflating: __MACOSX/train/._97CB8.png  \n",
            "  inflating: train/41969.png         \n",
            "  inflating: __MACOSX/train/._41969.png  \n",
            "  inflating: train/249E3.png         \n",
            "  inflating: __MACOSX/train/._249E3.png  \n",
            "  inflating: train/78911.png         \n",
            "  inflating: __MACOSX/train/._78911.png  \n",
            "  inflating: train/EAFA9.png         \n",
            "  inflating: __MACOSX/train/._EAFA9.png  \n",
            "  inflating: train/67819.png         \n",
            "  inflating: __MACOSX/train/._67819.png  \n",
            "  inflating: train/3F106.png         \n",
            "  inflating: __MACOSX/train/._3F106.png  \n",
            "  inflating: train/D2440.png         \n",
            "  inflating: __MACOSX/train/._D2440.png  \n",
            "  inflating: train/B4909.png         \n",
            "  inflating: __MACOSX/train/._B4909.png  \n",
            "  inflating: train/2A45D.png         \n",
            "  inflating: __MACOSX/train/._2A45D.png  \n",
            "  inflating: train/4BF17.png         \n",
            "  inflating: __MACOSX/train/._4BF17.png  \n",
            "  inflating: train/9836c.png         \n",
            "  inflating: __MACOSX/train/._9836c.png  \n",
            "  inflating: train/d5abc.png         \n",
            "  inflating: __MACOSX/train/._d5abc.png  \n",
            "  inflating: train/A9875.png         \n",
            "  inflating: __MACOSX/train/._A9875.png  \n",
            "  inflating: train/6F5F8.png         \n",
            "  inflating: __MACOSX/train/._6F5F8.png  \n",
            "  inflating: train/8CB61.png         \n",
            "  inflating: __MACOSX/train/._8CB61.png  \n",
            "  inflating: train/C5DB9.png         \n",
            "  inflating: __MACOSX/train/._C5DB9.png  \n",
            "  inflating: train/C8AA9.png         \n",
            "  inflating: __MACOSX/train/._C8AA9.png  \n",
            "  inflating: train/CEA0C.png         \n",
            "  inflating: __MACOSX/train/._CEA0C.png  \n",
            "  inflating: train/18ee1.png         \n",
            "  inflating: __MACOSX/train/._18ee1.png  \n",
            "  inflating: train/C8A4D.png         \n",
            "  inflating: __MACOSX/train/._C8A4D.png  \n",
            "  inflating: train/7E567.png         \n",
            "  inflating: __MACOSX/train/._7E567.png  \n",
            "  inflating: train/E16FA.png         \n",
            "  inflating: __MACOSX/train/._E16FA.png  \n",
            "  inflating: train/108CC.png         \n",
            "  inflating: __MACOSX/train/._108CC.png  \n",
            "  inflating: train/A122B.png         \n",
            "  inflating: __MACOSX/train/._A122B.png  \n",
            "  inflating: train/9139B.png         \n",
            "  inflating: __MACOSX/train/._9139B.png  \n",
            "  inflating: train/6557e.png         \n",
            "  inflating: __MACOSX/train/._6557e.png  \n",
            "  inflating: train/185B8.png         \n",
            "  inflating: __MACOSX/train/._185B8.png  \n",
            "  inflating: train/D3B57.png         \n",
            "  inflating: __MACOSX/train/._D3B57.png  \n",
            "  inflating: train/90EA9.png         \n",
            "  inflating: __MACOSX/train/._90EA9.png  \n",
            "  inflating: train/676F7.png         \n",
            "  inflating: __MACOSX/train/._676F7.png  \n",
            "  inflating: train/9BA5F.png         \n",
            "  inflating: __MACOSX/train/._9BA5F.png  \n",
            "  inflating: train/DF353.png         \n",
            "  inflating: __MACOSX/train/._DF353.png  \n",
            "  inflating: train/F6292.png         \n",
            "  inflating: __MACOSX/train/._F6292.png  \n",
            "  inflating: train/C260F.png         \n",
            "  inflating: __MACOSX/train/._C260F.png  \n",
            "  inflating: train/29bac.png         \n",
            "  inflating: __MACOSX/train/._29bac.png  \n",
            "  inflating: train/5B45C.png         \n",
            "  inflating: __MACOSX/train/._5B45C.png  \n",
            "  inflating: train/514fb.png         \n",
            "  inflating: __MACOSX/train/._514fb.png  \n",
            "  inflating: train/67F47.png         \n",
            "  inflating: __MACOSX/train/._67F47.png  \n",
            "  inflating: train/d2d39.png         \n",
            "  inflating: __MACOSX/train/._d2d39.png  \n",
            "  inflating: train/8E286.png         \n",
            "  inflating: __MACOSX/train/._8E286.png  \n",
            "  inflating: train/E34FF.png         \n",
            "  inflating: __MACOSX/train/._E34FF.png  \n",
            "  inflating: train/A0258.png         \n",
            "  inflating: __MACOSX/train/._A0258.png  \n",
            "  inflating: train/b2bcc.png         \n",
            "  inflating: __MACOSX/train/._b2bcc.png  \n",
            "  inflating: train/FFAA4.png         \n",
            "  inflating: __MACOSX/train/._FFAA4.png  \n",
            "  inflating: train/36261.png         \n",
            "  inflating: __MACOSX/train/._36261.png  \n",
            "  inflating: train/1CED9.png         \n",
            "  inflating: __MACOSX/train/._1CED9.png  \n",
            "  inflating: train/A6832.png         \n",
            "  inflating: __MACOSX/train/._A6832.png  \n",
            "  inflating: train/FF6B1.png         \n",
            "  inflating: __MACOSX/train/._FF6B1.png  \n",
            "  inflating: train/81568.png         \n",
            "  inflating: __MACOSX/train/._81568.png  \n",
            "  inflating: train/1C569.png         \n",
            "  inflating: __MACOSX/train/._1C569.png  \n",
            "  inflating: train/CE785.png         \n",
            "  inflating: __MACOSX/train/._CE785.png  \n",
            "  inflating: train/784B5.png         \n",
            "  inflating: __MACOSX/train/._784B5.png  \n",
            "  inflating: train/60BC9.png         \n",
            "  inflating: __MACOSX/train/._60BC9.png  \n",
            "  inflating: train/F24D0.png         \n",
            "  inflating: __MACOSX/train/._F24D0.png  \n",
            "  inflating: train/edcfa.png         \n",
            "  inflating: __MACOSX/train/._edcfa.png  \n",
            "  inflating: train/34847.png         \n",
            "  inflating: __MACOSX/train/._34847.png  \n",
            "  inflating: train/9E5E4.png         \n",
            "  inflating: __MACOSX/train/._9E5E4.png  \n",
            "  inflating: train/546E7.png         \n",
            "  inflating: __MACOSX/train/._546E7.png  \n",
            "  inflating: train/88954.png         \n",
            "  inflating: __MACOSX/train/._88954.png  \n",
            "  inflating: train/D442D.png         \n",
            "  inflating: __MACOSX/train/._D442D.png  \n",
            "  inflating: train/C387D.png         \n",
            "  inflating: __MACOSX/train/._C387D.png  \n",
            "  inflating: train/8573E.png         \n",
            "  inflating: __MACOSX/train/._8573E.png  \n",
            "  inflating: train/85727.png         \n",
            "  inflating: __MACOSX/train/._85727.png  \n",
            "  inflating: train/e3cd0.png         \n",
            "  inflating: __MACOSX/train/._e3cd0.png  \n",
            "  inflating: train/C3DFE.png         \n",
            "  inflating: __MACOSX/train/._C3DFE.png  \n",
            "  inflating: train/76888.png         \n",
            "  inflating: __MACOSX/train/._76888.png  \n",
            "  inflating: train/9FBB4.png         \n",
            "  inflating: __MACOSX/train/._9FBB4.png  \n",
            "  inflating: train/CD8C3.png         \n",
            "  inflating: __MACOSX/train/._CD8C3.png  \n",
            "  inflating: train/93838.png         \n",
            "  inflating: __MACOSX/train/._93838.png  \n",
            "  inflating: train/EB25E.png         \n",
            "  inflating: __MACOSX/train/._EB25E.png  \n",
            "  inflating: train/4E10F.png         \n",
            "  inflating: __MACOSX/train/._4E10F.png  \n",
            "  inflating: train/1A2D4.png         \n",
            "  inflating: __MACOSX/train/._1A2D4.png  \n",
            "  inflating: train/D9E45.png         \n",
            "  inflating: __MACOSX/train/._D9E45.png  \n",
            "  inflating: train/6E561.png         \n",
            "  inflating: __MACOSX/train/._6E561.png  \n",
            "  inflating: train/3539D.png         \n",
            "  inflating: __MACOSX/train/._3539D.png  \n",
            "  inflating: train/1A74A.png         \n",
            "  inflating: __MACOSX/train/._1A74A.png  \n",
            "  inflating: train/4A164.png         \n",
            "  inflating: __MACOSX/train/._4A164.png  \n",
            "  inflating: train/97041.png         \n",
            "  inflating: __MACOSX/train/._97041.png  \n",
            "  inflating: train/5C5AE.png         \n",
            "  inflating: __MACOSX/train/._5C5AE.png  \n",
            "  inflating: train/7F0C6.png         \n",
            "  inflating: __MACOSX/train/._7F0C6.png  \n",
            "  inflating: train/7F73A.png         \n",
            "  inflating: __MACOSX/train/._7F73A.png  \n",
            "rm: cannot remove 'task': No such file or directory\n"
          ],
          "name": "stdout"
        }
      ]
    },
    {
      "cell_type": "code",
      "metadata": {
        "id": "seWMyFBQEl5N"
      },
      "source": [
        "import numpy as np\n",
        "import matplotlib.pyplot as plt\n",
        "import matplotlib.image as mpimg\n",
        "from PIL import Image\n",
        "import os\n",
        "from tqdm import tqdm\n",
        "import glob\n",
        "import shutil\n",
        "import cv2\n",
        "import torch\n",
        "import string"
      ],
      "execution_count": 3,
      "outputs": []
    },
    {
      "cell_type": "code",
      "metadata": {
        "id": "Xe3_rL73FAJj",
        "outputId": "3b5e53f5-5924-46dc-993e-d5c12ff385cc",
        "colab": {
          "base_uri": "https://localhost:8080/",
          "height": 983
        }
      },
      "source": [
        "ROOT = os.getcwd()\n",
        "PATH_TRAIN = os.path.join(ROOT, 'train')\n",
        "PATH_TEST = os.path.join(ROOT, 'test')\n",
        "PATH_VAL = os.path.join(ROOT, 'val')\n",
        "\n",
        "\n",
        "def hist_distribution(dir):\n",
        "    assert os.path.exists(dir), -1\n",
        "    hist_dict = {elem: 0 for elem in string.ascii_uppercase}\n",
        "    for elem in string.digits:\n",
        "        hist_dict[elem] = 0\n",
        "    images_list = glob.glob1(dir, \"*.png\")\n",
        "    for ans in images_list:\n",
        "        for elem in ans.split('.')[0].upper():\n",
        "            hist_dict[elem] += 1\n",
        "    fig, ax = plt.subplots()\n",
        "    ax.bar(hist_dict.keys(), hist_dict.values(), width=1)\n",
        "    fig.set_figwidth(14)\n",
        "    fig.set_figheight(8)\n",
        "    plt.grid()\n",
        "    plt.show\n",
        "\n",
        "\n",
        "\n",
        "def checker(dir):\n",
        "    assert os.path.exists(dir), -1\n",
        "    images_list = glob.glob1(dir, \"*.png\")\n",
        "    count = 0\n",
        "    for img_path in images_list:\n",
        "        # if len(img_path) != 9:\n",
        "        #     print(img_path)\n",
        "        #     count += 1\n",
        "        for i in 'LPSQGKNM':\n",
        "            if i in img_path:\n",
        "                print(img_path)\n",
        "                os.remove(os.path.join(dir, img_path))\n",
        "    print(count)\n",
        "\n",
        "\n",
        "def captcha_show(dir):\n",
        "    assert os.path.exists(dir), -1\n",
        "    images_list = glob.glob1(dir, \"*.png\")\n",
        "    random_images = np.random.choice(images_list, 8, replace=True)\n",
        "\n",
        "    fig, ax = plt.subplots(nrows=4, ncols=2, figsize=(12, 8))\n",
        "    for i, img_name in enumerate(random_images):\n",
        "        img = mpimg.imread(os.path.join(dir, img_name))\n",
        "        ax[i // 2, i % 2].imshow(img)\n",
        "        ax[i // 2, i % 2].set_title(img_name)\n",
        "        ax[i // 2, i % 2].axis('off')\n",
        "    \n",
        "    plt.show()\n",
        "\n",
        "\n",
        "def decode(pred):\n",
        "    const = \"ABCDEF\" + string.digits\n",
        "    lenght = len(const)\n",
        "    targets = np.zeros((pred.shape[0], 5), dtype=str)\n",
        "    for i in range(pred.shape[0]):\n",
        "        c1 = const[torch.argmax(pred[i][:lenght])]\n",
        "        c2 = const[torch.argmax(pred[i][lenght:2*lenght])]\n",
        "        c3 = const[torch.argmax(pred[i][2*lenght:3*lenght])]\n",
        "        c4 = const[torch.argmax(pred[i][3*lenght:4*lenght])]\n",
        "        c5 = const[torch.argmax(pred[i][4*lenght:])]\n",
        "        targets[i] = np.array([c1, c2, c3, c4, c5])\n",
        "    return targets\n",
        "\n",
        "\n",
        "def encode(label):\n",
        "    const = \"ABCDEF\" + string.digits\n",
        "    lenght = len(const)\n",
        "    multi_labels = np.zeros((lenght * 5))\n",
        "    for i, c in enumerate(label):\n",
        "        multi_labels[i*lenght:(i+1)*lenght][const.index(c)] = 1\n",
        "    return multi_labels\n",
        "\n",
        "\n",
        "hist_distribution(PATH_TRAIN)\n",
        "# hist_distribution(PATH_VAL)\n",
        "hist_distribution(PATH_TEST)\n",
        "# captcha_show(PATH_TRAIN)\n",
        "checker(PATH_TEST)\n",
        "checker(PATH_TRAIN)"
      ],
      "execution_count": 4,
      "outputs": [
        {
          "output_type": "stream",
          "text": [
            "0\n",
            "0\n"
          ],
          "name": "stdout"
        },
        {
          "output_type": "display_data",
          "data": {
            "image/png": "[encoded data removed]",
            "text/plain": [
              "<Figure size 1008x576 with 1 Axes>"
            ]
          },
          "metadata": {
            "tags": [],
            "needs_background": "light"
          }
        },
        {
          "output_type": "display_data",
          "data": {
            "image/png": "[encoded data removed]",
            "text/plain": [
              "<Figure size 1008x576 with 1 Axes>"
            ]
          },
          "metadata": {
            "tags": [],
            "needs_background": "light"
          }
        }
      ]
    },
    {
      "cell_type": "code",
      "metadata": {
        "id": "ZL4V0ny8qJ00"
      },
      "source": [
        "os.makedirs(PATH_VAL, exist_ok=True)\n",
        "images_list = os.listdir(PATH_TRAIN)\n",
        "for i, img_path in enumerate(images_list):\n",
        "    if i % 6 == 0:\n",
        "        shutil.move(os.path.join(PATH_TRAIN, img_path), os.path.join(PATH_VAL, img_path))\n"
      ],
      "execution_count": null,
      "outputs": []
    },
    {
      "cell_type": "code",
      "metadata": {
        "id": "zT5YpF-Xrqrk",
        "outputId": "da8b26d4-2939-4c24-9f5d-a051f362b944",
        "colab": {
          "base_uri": "https://localhost:8080/",
          "height": 51
        }
      },
      "source": [
        "!ls ./train | wc\n",
        "# !ls ./val | wc\n",
        "!ls ./test | wc"
      ],
      "execution_count": null,
      "outputs": [
        {
          "output_type": "stream",
          "text": [
            "    562     562    5620\n",
            "    321     321    3210\n"
          ],
          "name": "stdout"
        }
      ]
    },
    {
      "cell_type": "code",
      "metadata": {
        "id": "QQWw2xGjiKj3"
      },
      "source": [
        "import torchvision\n",
        "import torch\n",
        "from torchvision import transforms, models\n",
        "from torch.utils.data import Dataset, DataLoader\n",
        "import torch.nn as nn\n",
        "import torch.nn.functional as F\n",
        "\n",
        "\n",
        "class CaptchaDataset(Dataset):\n",
        "    def __init__(self, path, transform=None):\n",
        "        assert os.path.exists(path), -1\n",
        "        self.images = [os.path.join(path, img) for img in os.listdir(path)]\n",
        "        self.transform = transform\n",
        "    \n",
        "    def __len__(self):\n",
        "        return len(self.images)\n",
        "\n",
        "    def __getitem__(self, index):\n",
        "        img_path = self.images[index]\n",
        "        img = Image.open(img_path)\n",
        "        label = img_path.split('/')[-1][:5].upper()\n",
        "        label = encode(label)\n",
        "        if self.transform is not None:\n",
        "            img = self.transform(img)\n",
        "        return img, torch.from_numpy(label)"
      ],
      "execution_count": null,
      "outputs": []
    },
    {
      "cell_type": "code",
      "metadata": {
        "id": "WO4rGTvjWCD6"
      },
      "source": [
        "# Create dataloaders\n",
        "train_transforms = transforms.Compose([\n",
        "    # transforms.Resize(224),\n",
        "    transforms.ColorJitter(brightness=0.5, contrast=0.2, saturation=0.2),\n",
        "    transforms.ToTensor(),\n",
        "    transforms.Normalize([0.485, 0.456, 0.406], [0.229, 0.224, 0.225])\n",
        "])\n",
        "\n",
        "test_transforms = transforms.Compose([\n",
        "    # transforms.Resize(224),                         \n",
        "    transforms.ToTensor(),\n",
        "    transforms.Normalize([0.485, 0.456, 0.406], [0.229, 0.224, 0.225])\n",
        "])\n",
        "\n",
        "\n",
        "train_dataset = CaptchaDataset(PATH_TRAIN, transform=train_transforms)\n",
        "# val_dataset = CaptchaDataset(PATH_VAL, transform=test_transforms)\n",
        "test_dataset = CaptchaDataset(PATH_TEST, transform=test_transforms)\n",
        "batch_size = 8\n",
        "\n",
        "train_dataloader = torch.utils.data.DataLoader(\n",
        "    train_dataset, batch_size=batch_size, shuffle=True, num_workers=batch_size, drop_last=True)\n",
        "\n",
        "# val_dataloader = torch.utils.data.DataLoader(\n",
        "#     val_dataset, batch_size=batch_size, shuffle=False, num_workers=batch_size, drop_last=False)\n",
        "\n",
        "test_dataloader = torch.utils.data.DataLoader(\n",
        "    test_dataset, batch_size=batch_size, shuffle=False, num_workers=batch_size, drop_last=False)\n"
      ],
      "execution_count": null,
      "outputs": []
    },
    {
      "cell_type": "code",
      "metadata": {
        "id": "M820ADVia8sP",
        "outputId": "b89284fc-b5e9-4146-ffbe-371b0bcaa54f",
        "colab": {
          "base_uri": "https://localhost:8080/",
          "height": 323
        }
      },
      "source": [
        "plt.imshow(np.array(train_dataset[2][0]).transpose(1, 2 ,0))"
      ],
      "execution_count": null,
      "outputs": [
        {
          "output_type": "stream",
          "text": [
            "Clipping input data to the valid range for imshow with RGB data ([0..1] for floats or [0..255] for integers).\n"
          ],
          "name": "stderr"
        },
        {
          "output_type": "execute_result",
          "data": {
            "text/plain": [
              "<matplotlib.image.AxesImage at 0x7ff5ad982dd8>"
            ]
          },
          "metadata": {
            "tags": []
          },
          "execution_count": 58
        },
        {
          "output_type": "display_data",
          "data": {
            "image/png": "[encoded data removed]",
            "text/plain": [
              "<Figure size 432x288 with 1 Axes>"
            ]
          },
          "metadata": {
            "tags": [],
            "needs_background": "light"
          }
        }
      ]
    },
    {
      "cell_type": "code",
      "metadata": {
        "id": "sFQsYRPimPQf"
      },
      "source": [
        "# class CaptchaNet(nn.Module):\n",
        "#     def __init__(self):\n",
        "#         super(CaptchaNet, self).__init__()\n",
        "#         self.layer1 = nn.Sequential(\n",
        "#             nn.Conv2d(3, 8, kernel_size=3, padding=1),\n",
        "#             nn.BatchNorm2d(8),\n",
        "#             nn.ReLU(),\n",
        "#             nn.MaxPool2d(kernel_size=2, stride=2))\n",
        "        \n",
        "#         self.layer2 = nn.Sequential(\n",
        "#             nn.Conv2d(8, 32, kernel_size=3, padding=1),\n",
        "#             nn.BatchNorm2d(32),\n",
        "#             nn.ReLU(),\n",
        "#             nn.MaxPool2d(kernel_size=2, stride=2))\n",
        "        \n",
        "#         self.layer3 = nn.Sequential(\n",
        "#             nn.Conv2d(32, 64, kernel_size=3, padding=1),\n",
        "#             nn.BatchNorm2d(64),\n",
        "#             nn.ReLU(),\n",
        "#             nn.MaxPool2d(kernel_size=2, stride=2))\n",
        "        \n",
        "#         self.layer4 = nn.Sequential(\n",
        "#             nn.Conv2d(64, 128, kernel_size=3, padding=1),\n",
        "#             nn.BatchNorm2d(128),\n",
        "#             nn.ReLU(),\n",
        "#             nn.MaxPool2d(kernel_size=2, stride=2))\n",
        "\n",
        "#         self.fc_1 = nn.Linear(128 * 14 * 14, 4096)\n",
        "#         self.bn_1 = nn.BatchNorm1d(4096)\n",
        "#         self.relu_1 = nn.ReLU()\n",
        "#         self.fc_2 = nn.Linear(4096, 1024)\n",
        "#         self.bn_2 = nn.BatchNorm1d(1024)\n",
        "#         self.relu_2 = nn.ReLU()\n",
        "#         self.fc_3 = nn.Linear(1024, 16 * 5)\n",
        "    \n",
        "#     def forward(self, x):\n",
        "#         # print(x.shape)\n",
        "#         out = self.layer1(x)\n",
        "#         # print(out.shape)\n",
        "#         out = self.layer2(out)\n",
        "#         # print(out.shape)\n",
        "#         out = self.layer3(out)\n",
        "#         # print(out.shape)\n",
        "#         out = self.layer4(out)\n",
        "#         # print(out.shape)\n",
        "#         out = out.reshape(out.size(0), -1)\n",
        "#         # print(out.shape)\n",
        "\n",
        "#         out = self.fc_1(out)\n",
        "#         out = self.bn_1(out)\n",
        "#         out = self.relu_1(out)\n",
        "#         out = self.fc_2(out)\n",
        "#         out = self.bn_2(out)\n",
        "#         out = self.relu_2(out)\n",
        "#         out = self.fc_3(out)\n",
        "\n",
        "#         return out\n",
        "\n",
        "\n",
        "# model = CaptchaNet()"
      ],
      "execution_count": null,
      "outputs": []
    },
    {
      "cell_type": "code",
      "metadata": {
        "id": "pNHbWazylA9x"
      },
      "source": [
        "# Create resnet34 and freeze the first 50 layers\n",
        "model = models.resnet34(pretrained=True)\n",
        "\n",
        "c = 0\n",
        "for param in model.parameters():\n",
        "    c += 1\n",
        "    if c < 50:\n",
        "      param.requires_grad = False\n",
        "\n",
        "# Probability for each symbol\n",
        "model.fc = nn.Linear(in_features=512, out_features=16 * 5, bias=True)"
      ],
      "execution_count": null,
      "outputs": []
    },
    {
      "cell_type": "code",
      "metadata": {
        "id": "ogfxB4mkgmWA"
      },
      "source": [
        "device = torch.device('cuda:0' if torch.cuda.is_available() else 'cpu')\n",
        "model = model.to(device)\n",
        "\n",
        "loss = torch.nn.MultiLabelSoftMarginLoss()\n",
        "optimizer = torch.optim.Adam(model.parameters(), lr=1e-3)\n",
        "scheduler = torch.optim.lr_scheduler.StepLR(optimizer, step_size=25, gamma=0.1)"
      ],
      "execution_count": null,
      "outputs": []
    },
    {
      "cell_type": "code",
      "metadata": {
        "id": "rw7Gvrcik1dl"
      },
      "source": [
        "def train_model(model, loss, optimizer, scheduler, num_epochs):\n",
        "    loss_train = []\n",
        "    loss_val = []\n",
        "    acc_train = []\n",
        "    acc_val = []\n",
        "    for epoch in range(num_epochs):\n",
        "        print('Epoch {}/{}:'.format(epoch, num_epochs - 1), flush=True)\n",
        "\n",
        "        for phase in ['train', 'val']:\n",
        "            if phase == 'train':\n",
        "                dataloader = train_dataloader\n",
        "                model.train()\n",
        "            else:\n",
        "                dataloader = test_dataloader\n",
        "                model.eval()\n",
        "\n",
        "            running_loss = 0.\n",
        "            running_acc = 0.\n",
        "\n",
        "            for inputs, labels in tqdm(dataloader):\n",
        "                inputs = inputs.to(device)\n",
        "                labels = labels.to(device)\n",
        "\n",
        "                optimizer.zero_grad()\n",
        "\n",
        "                # forward and backward\n",
        "                with torch.set_grad_enabled(phase == 'train'):\n",
        "                    preds = model(inputs)\n",
        "                    loss_value = loss(preds, labels)\n",
        "\n",
        "                    if phase == 'train':\n",
        "                        loss_value.backward()\n",
        "                        optimizer.step()\n",
        "\n",
        "                running_loss += loss_value.item()\n",
        "\n",
        "                running_acc += (decode(preds) == decode(labels)).all(axis=1).mean()\n",
        "\n",
        "            scheduler.step()\n",
        "            epoch_loss = running_loss / len(dataloader)\n",
        "            epoch_acc = running_acc / len(dataloader)\n",
        "            if phase=='train':\n",
        "                loss_train.append(epoch_loss)\n",
        "                acc_train.append(epoch_acc)\n",
        "                torch.save(model, os.path.join(ROOT, 'output', str(str(epoch) + '.pt')))\n",
        "            else:\n",
        "                loss_val.append(epoch_loss)\n",
        "                acc_val.append(epoch_acc)\n",
        "            print('{} Loss: {:.4f} Acc: {:.4f}'.format(phase, epoch_loss, epoch_acc), flush=True)\n",
        "\n",
        "    return model, loss_train, loss_val, acc_train, acc_val"
      ],
      "execution_count": null,
      "outputs": []
    },
    {
      "cell_type": "code",
      "metadata": {
        "id": "oWucZBFeqzM5",
        "outputId": "3e4379d4-5a6f-43db-d325-52b6cdb099eb",
        "colab": {
          "base_uri": "https://localhost:8080/",
          "height": 1000
        }
      },
      "source": [
        "model, loss_train, loss_val, acc_train, acc_val = train_model(model, loss, optimizer, scheduler, num_epochs=50)"
      ],
      "execution_count": null,
      "outputs": [
        {
          "output_type": "stream",
          "text": [
            "Epoch 0/49:\n"
          ],
          "name": "stdout"
        },
        {
          "output_type": "stream",
          "text": [
            "100%|██████████| 70/70 [00:05<00:00, 13.67it/s]\n"
          ],
          "name": "stderr"
        },
        {
          "output_type": "stream",
          "text": [
            "train Loss: 0.2588 Acc: 0.0000\n"
          ],
          "name": "stdout"
        },
        {
          "output_type": "stream",
          "text": [
            "100%|██████████| 41/41 [00:01<00:00, 20.89it/s]"
          ],
          "name": "stderr"
        },
        {
          "output_type": "stream",
          "text": [
            "val Loss: 0.2391 Acc: 0.0000\n",
            "Epoch 1/49:\n"
          ],
          "name": "stdout"
        },
        {
          "output_type": "stream",
          "text": [
            "\n",
            "100%|██████████| 70/70 [00:05<00:00, 13.79it/s]\n"
          ],
          "name": "stderr"
        },
        {
          "output_type": "stream",
          "text": [
            "train Loss: 0.2247 Acc: 0.0000\n"
          ],
          "name": "stdout"
        },
        {
          "output_type": "stream",
          "text": [
            "100%|██████████| 41/41 [00:01<00:00, 20.66it/s]"
          ],
          "name": "stderr"
        },
        {
          "output_type": "stream",
          "text": [
            "val Loss: 0.2167 Acc: 0.0030\n",
            "Epoch 2/49:\n"
          ],
          "name": "stdout"
        },
        {
          "output_type": "stream",
          "text": [
            "\n",
            "100%|██████████| 70/70 [00:05<00:00, 13.84it/s]\n"
          ],
          "name": "stderr"
        },
        {
          "output_type": "stream",
          "text": [
            "train Loss: 0.1911 Acc: 0.0036\n"
          ],
          "name": "stdout"
        },
        {
          "output_type": "stream",
          "text": [
            "100%|██████████| 41/41 [00:01<00:00, 21.05it/s]"
          ],
          "name": "stderr"
        },
        {
          "output_type": "stream",
          "text": [
            "val Loss: 0.1719 Acc: 0.0030\n",
            "Epoch 3/49:\n"
          ],
          "name": "stdout"
        },
        {
          "output_type": "stream",
          "text": [
            "\n",
            "100%|██████████| 70/70 [00:05<00:00, 13.77it/s]\n"
          ],
          "name": "stderr"
        },
        {
          "output_type": "stream",
          "text": [
            "train Loss: 0.1486 Acc: 0.0304\n"
          ],
          "name": "stdout"
        },
        {
          "output_type": "stream",
          "text": [
            "100%|██████████| 41/41 [00:02<00:00, 20.46it/s]"
          ],
          "name": "stderr"
        },
        {
          "output_type": "stream",
          "text": [
            "val Loss: 0.1321 Acc: 0.0305\n",
            "Epoch 4/49:\n"
          ],
          "name": "stdout"
        },
        {
          "output_type": "stream",
          "text": [
            "\n",
            "100%|██████████| 70/70 [00:05<00:00, 13.81it/s]"
          ],
          "name": "stderr"
        },
        {
          "output_type": "stream",
          "text": [
            "train Loss: 0.1104 Acc: 0.1446\n"
          ],
          "name": "stdout"
        },
        {
          "output_type": "stream",
          "text": [
            "\n",
            "100%|██████████| 41/41 [00:01<00:00, 21.09it/s]"
          ],
          "name": "stderr"
        },
        {
          "output_type": "stream",
          "text": [
            "val Loss: 0.1033 Acc: 0.0915\n",
            "Epoch 5/49:\n"
          ],
          "name": "stdout"
        },
        {
          "output_type": "stream",
          "text": [
            "\n",
            "100%|██████████| 70/70 [00:05<00:00, 13.76it/s]\n"
          ],
          "name": "stderr"
        },
        {
          "output_type": "stream",
          "text": [
            "train Loss: 0.0813 Acc: 0.4107\n"
          ],
          "name": "stdout"
        },
        {
          "output_type": "stream",
          "text": [
            "100%|██████████| 41/41 [00:02<00:00, 20.49it/s]"
          ],
          "name": "stderr"
        },
        {
          "output_type": "stream",
          "text": [
            "val Loss: 0.0787 Acc: 0.3201\n",
            "Epoch 6/49:\n"
          ],
          "name": "stdout"
        },
        {
          "output_type": "stream",
          "text": [
            "\n",
            "100%|██████████| 70/70 [00:05<00:00, 13.72it/s]"
          ],
          "name": "stderr"
        },
        {
          "output_type": "stream",
          "text": [
            "train Loss: 0.0572 Acc: 0.6250\n"
          ],
          "name": "stdout"
        },
        {
          "output_type": "stream",
          "text": [
            "\n",
            "100%|██████████| 41/41 [00:02<00:00, 16.76it/s]"
          ],
          "name": "stderr"
        },
        {
          "output_type": "stream",
          "text": [
            "val Loss: 0.0558 Acc: 0.5213\n",
            "Epoch 7/49:\n"
          ],
          "name": "stdout"
        },
        {
          "output_type": "stream",
          "text": [
            "\n",
            "100%|██████████| 70/70 [00:05<00:00, 12.54it/s]\n"
          ],
          "name": "stderr"
        },
        {
          "output_type": "stream",
          "text": [
            "train Loss: 0.0434 Acc: 0.7875\n"
          ],
          "name": "stdout"
        },
        {
          "output_type": "stream",
          "text": [
            "100%|██████████| 41/41 [00:02<00:00, 16.70it/s]"
          ],
          "name": "stderr"
        },
        {
          "output_type": "stream",
          "text": [
            "val Loss: 0.0419 Acc: 0.7256\n",
            "Epoch 8/49:\n"
          ],
          "name": "stdout"
        },
        {
          "output_type": "stream",
          "text": [
            "\n",
            "100%|██████████| 70/70 [00:05<00:00, 12.55it/s]\n"
          ],
          "name": "stderr"
        },
        {
          "output_type": "stream",
          "text": [
            "train Loss: 0.0307 Acc: 0.8929\n"
          ],
          "name": "stdout"
        },
        {
          "output_type": "stream",
          "text": [
            "100%|██████████| 41/41 [00:01<00:00, 20.93it/s]"
          ],
          "name": "stderr"
        },
        {
          "output_type": "stream",
          "text": [
            "val Loss: 0.0329 Acc: 0.8140\n",
            "Epoch 9/49:\n"
          ],
          "name": "stdout"
        },
        {
          "output_type": "stream",
          "text": [
            "\n",
            "100%|██████████| 70/70 [00:05<00:00, 13.57it/s]\n"
          ],
          "name": "stderr"
        },
        {
          "output_type": "stream",
          "text": [
            "train Loss: 0.0233 Acc: 0.9357\n"
          ],
          "name": "stdout"
        },
        {
          "output_type": "stream",
          "text": [
            "100%|██████████| 41/41 [00:02<00:00, 20.09it/s]"
          ],
          "name": "stderr"
        },
        {
          "output_type": "stream",
          "text": [
            "val Loss: 0.0271 Acc: 0.8689\n",
            "Epoch 10/49:\n"
          ],
          "name": "stdout"
        },
        {
          "output_type": "stream",
          "text": [
            "\n",
            "100%|██████████| 70/70 [00:05<00:00, 13.71it/s]"
          ],
          "name": "stderr"
        },
        {
          "output_type": "stream",
          "text": [
            "train Loss: 0.0190 Acc: 0.9643\n"
          ],
          "name": "stdout"
        },
        {
          "output_type": "stream",
          "text": [
            "\n",
            "100%|██████████| 41/41 [00:01<00:00, 20.64it/s]"
          ],
          "name": "stderr"
        },
        {
          "output_type": "stream",
          "text": [
            "val Loss: 0.0246 Acc: 0.8567\n",
            "Epoch 11/49:\n"
          ],
          "name": "stdout"
        },
        {
          "output_type": "stream",
          "text": [
            "\n",
            "100%|██████████| 70/70 [00:05<00:00, 13.56it/s]\n"
          ],
          "name": "stderr"
        },
        {
          "output_type": "stream",
          "text": [
            "train Loss: 0.0159 Acc: 0.9696\n"
          ],
          "name": "stdout"
        },
        {
          "output_type": "stream",
          "text": [
            "100%|██████████| 41/41 [00:01<00:00, 20.50it/s]"
          ],
          "name": "stderr"
        },
        {
          "output_type": "stream",
          "text": [
            "val Loss: 0.0218 Acc: 0.8598\n",
            "Epoch 12/49:\n"
          ],
          "name": "stdout"
        },
        {
          "output_type": "stream",
          "text": [
            "\n",
            "100%|██████████| 70/70 [00:05<00:00, 13.54it/s]\n"
          ],
          "name": "stderr"
        },
        {
          "output_type": "stream",
          "text": [
            "train Loss: 0.0129 Acc: 0.9768\n"
          ],
          "name": "stdout"
        },
        {
          "output_type": "stream",
          "text": [
            "100%|██████████| 41/41 [00:01<00:00, 20.61it/s]"
          ],
          "name": "stderr"
        },
        {
          "output_type": "stream",
          "text": [
            "val Loss: 0.0190 Acc: 0.9055\n",
            "Epoch 13/49:\n"
          ],
          "name": "stdout"
        },
        {
          "output_type": "stream",
          "text": [
            "\n",
            "100%|██████████| 70/70 [00:05<00:00, 13.55it/s]\n"
          ],
          "name": "stderr"
        },
        {
          "output_type": "stream",
          "text": [
            "train Loss: 0.0107 Acc: 0.9821\n"
          ],
          "name": "stdout"
        },
        {
          "output_type": "stream",
          "text": [
            "100%|██████████| 41/41 [00:02<00:00, 20.24it/s]"
          ],
          "name": "stderr"
        },
        {
          "output_type": "stream",
          "text": [
            "val Loss: 0.0135 Acc: 0.9421\n",
            "Epoch 14/49:\n"
          ],
          "name": "stdout"
        },
        {
          "output_type": "stream",
          "text": [
            "\n",
            "100%|██████████| 70/70 [00:05<00:00, 13.60it/s]\n"
          ],
          "name": "stderr"
        },
        {
          "output_type": "stream",
          "text": [
            "train Loss: 0.0081 Acc: 0.9982\n"
          ],
          "name": "stdout"
        },
        {
          "output_type": "stream",
          "text": [
            "100%|██████████| 41/41 [00:01<00:00, 20.65it/s]"
          ],
          "name": "stderr"
        },
        {
          "output_type": "stream",
          "text": [
            "val Loss: 0.0123 Acc: 0.9421\n",
            "Epoch 15/49:\n"
          ],
          "name": "stdout"
        },
        {
          "output_type": "stream",
          "text": [
            "\n",
            "100%|██████████| 70/70 [00:05<00:00, 13.65it/s]\n"
          ],
          "name": "stderr"
        },
        {
          "output_type": "stream",
          "text": [
            "train Loss: 0.0069 Acc: 0.9982\n"
          ],
          "name": "stdout"
        },
        {
          "output_type": "stream",
          "text": [
            "100%|██████████| 41/41 [00:02<00:00, 20.32it/s]"
          ],
          "name": "stderr"
        },
        {
          "output_type": "stream",
          "text": [
            "val Loss: 0.0116 Acc: 0.9482\n",
            "Epoch 16/49:\n"
          ],
          "name": "stdout"
        },
        {
          "output_type": "stream",
          "text": [
            "\n",
            "100%|██████████| 70/70 [00:05<00:00, 13.72it/s]\n"
          ],
          "name": "stderr"
        },
        {
          "output_type": "stream",
          "text": [
            "train Loss: 0.0069 Acc: 1.0000\n"
          ],
          "name": "stdout"
        },
        {
          "output_type": "stream",
          "text": [
            "100%|██████████| 41/41 [00:01<00:00, 20.85it/s]"
          ],
          "name": "stderr"
        },
        {
          "output_type": "stream",
          "text": [
            "val Loss: 0.0111 Acc: 0.9390\n",
            "Epoch 17/49:\n"
          ],
          "name": "stdout"
        },
        {
          "output_type": "stream",
          "text": [
            "\n",
            "100%|██████████| 70/70 [00:05<00:00, 13.71it/s]\n"
          ],
          "name": "stderr"
        },
        {
          "output_type": "stream",
          "text": [
            "train Loss: 0.0063 Acc: 1.0000\n"
          ],
          "name": "stdout"
        },
        {
          "output_type": "stream",
          "text": [
            "100%|██████████| 41/41 [00:02<00:00, 20.30it/s]"
          ],
          "name": "stderr"
        },
        {
          "output_type": "stream",
          "text": [
            "val Loss: 0.0111 Acc: 0.9482\n",
            "Epoch 18/49:\n"
          ],
          "name": "stdout"
        },
        {
          "output_type": "stream",
          "text": [
            "\n",
            "100%|██████████| 70/70 [00:05<00:00, 13.70it/s]"
          ],
          "name": "stderr"
        },
        {
          "output_type": "stream",
          "text": [
            "train Loss: 0.0060 Acc: 1.0000\n"
          ],
          "name": "stdout"
        },
        {
          "output_type": "stream",
          "text": [
            "\n",
            "100%|██████████| 41/41 [00:01<00:00, 20.67it/s]"
          ],
          "name": "stderr"
        },
        {
          "output_type": "stream",
          "text": [
            "val Loss: 0.0105 Acc: 0.9512\n",
            "Epoch 19/49:\n"
          ],
          "name": "stdout"
        },
        {
          "output_type": "stream",
          "text": [
            "\n",
            "100%|██████████| 70/70 [00:05<00:00, 13.54it/s]\n"
          ],
          "name": "stderr"
        },
        {
          "output_type": "stream",
          "text": [
            "train Loss: 0.0056 Acc: 1.0000\n"
          ],
          "name": "stdout"
        },
        {
          "output_type": "stream",
          "text": [
            "100%|██████████| 41/41 [00:01<00:00, 20.51it/s]"
          ],
          "name": "stderr"
        },
        {
          "output_type": "stream",
          "text": [
            "val Loss: 0.0108 Acc: 0.9482\n",
            "Epoch 20/49:\n"
          ],
          "name": "stdout"
        },
        {
          "output_type": "stream",
          "text": [
            "\n",
            "100%|██████████| 70/70 [00:05<00:00, 13.58it/s]"
          ],
          "name": "stderr"
        },
        {
          "output_type": "stream",
          "text": [
            "train Loss: 0.0056 Acc: 1.0000\n"
          ],
          "name": "stdout"
        },
        {
          "output_type": "stream",
          "text": [
            "\n",
            "100%|██████████| 41/41 [00:01<00:00, 20.70it/s]"
          ],
          "name": "stderr"
        },
        {
          "output_type": "stream",
          "text": [
            "val Loss: 0.0108 Acc: 0.9390\n",
            "Epoch 21/49:\n"
          ],
          "name": "stdout"
        },
        {
          "output_type": "stream",
          "text": [
            "\n",
            "100%|██████████| 70/70 [00:05<00:00, 13.48it/s]\n"
          ],
          "name": "stderr"
        },
        {
          "output_type": "stream",
          "text": [
            "train Loss: 0.0056 Acc: 1.0000\n"
          ],
          "name": "stdout"
        },
        {
          "output_type": "stream",
          "text": [
            "100%|██████████| 41/41 [00:02<00:00, 20.22it/s]"
          ],
          "name": "stderr"
        },
        {
          "output_type": "stream",
          "text": [
            "val Loss: 0.0106 Acc: 0.9451\n",
            "Epoch 22/49:\n"
          ],
          "name": "stdout"
        },
        {
          "output_type": "stream",
          "text": [
            "\n",
            "100%|██████████| 70/70 [00:05<00:00, 13.52it/s]"
          ],
          "name": "stderr"
        },
        {
          "output_type": "stream",
          "text": [
            "train Loss: 0.0056 Acc: 1.0000\n"
          ],
          "name": "stdout"
        },
        {
          "output_type": "stream",
          "text": [
            "\n",
            "100%|██████████| 41/41 [00:01<00:00, 20.59it/s]"
          ],
          "name": "stderr"
        },
        {
          "output_type": "stream",
          "text": [
            "val Loss: 0.0105 Acc: 0.9482\n",
            "Epoch 23/49:\n"
          ],
          "name": "stdout"
        },
        {
          "output_type": "stream",
          "text": [
            "\n",
            "100%|██████████| 70/70 [00:05<00:00, 13.64it/s]\n"
          ],
          "name": "stderr"
        },
        {
          "output_type": "stream",
          "text": [
            "train Loss: 0.0050 Acc: 1.0000\n"
          ],
          "name": "stdout"
        },
        {
          "output_type": "stream",
          "text": [
            "100%|██████████| 41/41 [00:02<00:00, 20.18it/s]"
          ],
          "name": "stderr"
        },
        {
          "output_type": "stream",
          "text": [
            "val Loss: 0.0100 Acc: 0.9543\n",
            "Epoch 24/49:\n"
          ],
          "name": "stdout"
        },
        {
          "output_type": "stream",
          "text": [
            "\n",
            "100%|██████████| 70/70 [00:05<00:00, 13.68it/s]\n"
          ],
          "name": "stderr"
        },
        {
          "output_type": "stream",
          "text": [
            "train Loss: 0.0052 Acc: 0.9982\n"
          ],
          "name": "stdout"
        },
        {
          "output_type": "stream",
          "text": [
            "100%|██████████| 41/41 [00:01<00:00, 20.62it/s]"
          ],
          "name": "stderr"
        },
        {
          "output_type": "stream",
          "text": [
            "val Loss: 0.0100 Acc: 0.9573\n",
            "Epoch 25/49:\n"
          ],
          "name": "stdout"
        },
        {
          "output_type": "stream",
          "text": [
            "\n",
            "100%|██████████| 70/70 [00:05<00:00, 13.53it/s]"
          ],
          "name": "stderr"
        },
        {
          "output_type": "stream",
          "text": [
            "train Loss: 0.0053 Acc: 1.0000\n"
          ],
          "name": "stdout"
        },
        {
          "output_type": "stream",
          "text": [
            "\n",
            "100%|██████████| 41/41 [00:02<00:00, 20.29it/s]"
          ],
          "name": "stderr"
        },
        {
          "output_type": "stream",
          "text": [
            "val Loss: 0.0097 Acc: 0.9573\n",
            "Epoch 26/49:\n"
          ],
          "name": "stdout"
        },
        {
          "output_type": "stream",
          "text": [
            "\n",
            "100%|██████████| 70/70 [00:05<00:00, 13.72it/s]\n"
          ],
          "name": "stderr"
        },
        {
          "output_type": "stream",
          "text": [
            "train Loss: 0.0047 Acc: 1.0000\n"
          ],
          "name": "stdout"
        },
        {
          "output_type": "stream",
          "text": [
            "100%|██████████| 41/41 [00:01<00:00, 20.75it/s]"
          ],
          "name": "stderr"
        },
        {
          "output_type": "stream",
          "text": [
            "val Loss: 0.0097 Acc: 0.9543\n",
            "Epoch 27/49:\n"
          ],
          "name": "stdout"
        },
        {
          "output_type": "stream",
          "text": [
            "\n",
            "100%|██████████| 70/70 [00:05<00:00, 13.67it/s]\n"
          ],
          "name": "stderr"
        },
        {
          "output_type": "stream",
          "text": [
            "train Loss: 0.0049 Acc: 1.0000\n"
          ],
          "name": "stdout"
        },
        {
          "output_type": "stream",
          "text": [
            "100%|██████████| 41/41 [00:01<00:00, 20.72it/s]"
          ],
          "name": "stderr"
        },
        {
          "output_type": "stream",
          "text": [
            "val Loss: 0.0096 Acc: 0.9512\n",
            "Epoch 28/49:\n"
          ],
          "name": "stdout"
        },
        {
          "output_type": "stream",
          "text": [
            "\n",
            "100%|██████████| 70/70 [00:05<00:00, 13.61it/s]"
          ],
          "name": "stderr"
        },
        {
          "output_type": "stream",
          "text": [
            "train Loss: 0.0050 Acc: 1.0000\n"
          ],
          "name": "stdout"
        },
        {
          "output_type": "stream",
          "text": [
            "\n",
            "100%|██████████| 41/41 [00:01<00:00, 20.77it/s]"
          ],
          "name": "stderr"
        },
        {
          "output_type": "stream",
          "text": [
            "val Loss: 0.0098 Acc: 0.9543\n",
            "Epoch 29/49:\n"
          ],
          "name": "stdout"
        },
        {
          "output_type": "stream",
          "text": [
            "\n",
            "100%|██████████| 70/70 [00:05<00:00, 13.58it/s]\n"
          ],
          "name": "stderr"
        },
        {
          "output_type": "stream",
          "text": [
            "train Loss: 0.0049 Acc: 1.0000\n"
          ],
          "name": "stdout"
        },
        {
          "output_type": "stream",
          "text": [
            "100%|██████████| 41/41 [00:01<00:00, 20.59it/s]"
          ],
          "name": "stderr"
        },
        {
          "output_type": "stream",
          "text": [
            "val Loss: 0.0096 Acc: 0.9573\n",
            "Epoch 30/49:\n"
          ],
          "name": "stdout"
        },
        {
          "output_type": "stream",
          "text": [
            "\n",
            "100%|██████████| 70/70 [00:05<00:00, 13.64it/s]\n"
          ],
          "name": "stderr"
        },
        {
          "output_type": "stream",
          "text": [
            "train Loss: 0.0046 Acc: 1.0000\n"
          ],
          "name": "stdout"
        },
        {
          "output_type": "stream",
          "text": [
            "100%|██████████| 41/41 [00:01<00:00, 20.81it/s]"
          ],
          "name": "stderr"
        },
        {
          "output_type": "stream",
          "text": [
            "val Loss: 0.0096 Acc: 0.9543\n",
            "Epoch 31/49:\n"
          ],
          "name": "stdout"
        },
        {
          "output_type": "stream",
          "text": [
            "\n",
            "100%|██████████| 70/70 [00:05<00:00, 13.67it/s]\n"
          ],
          "name": "stderr"
        },
        {
          "output_type": "stream",
          "text": [
            "train Loss: 0.0047 Acc: 1.0000\n"
          ],
          "name": "stdout"
        },
        {
          "output_type": "stream",
          "text": [
            "100%|██████████| 41/41 [00:02<00:00, 20.08it/s]"
          ],
          "name": "stderr"
        },
        {
          "output_type": "stream",
          "text": [
            "val Loss: 0.0097 Acc: 0.9543\n",
            "Epoch 32/49:\n"
          ],
          "name": "stdout"
        },
        {
          "output_type": "stream",
          "text": [
            "\n",
            "100%|██████████| 70/70 [00:05<00:00, 13.63it/s]"
          ],
          "name": "stderr"
        },
        {
          "output_type": "stream",
          "text": [
            "train Loss: 0.0046 Acc: 1.0000\n"
          ],
          "name": "stdout"
        },
        {
          "output_type": "stream",
          "text": [
            "\n",
            "100%|██████████| 41/41 [00:01<00:00, 20.62it/s]"
          ],
          "name": "stderr"
        },
        {
          "output_type": "stream",
          "text": [
            "val Loss: 0.0094 Acc: 0.9573\n",
            "Epoch 33/49:\n"
          ],
          "name": "stdout"
        },
        {
          "output_type": "stream",
          "text": [
            "\n",
            "100%|██████████| 70/70 [00:05<00:00, 13.55it/s]\n"
          ],
          "name": "stderr"
        },
        {
          "output_type": "stream",
          "text": [
            "train Loss: 0.0044 Acc: 1.0000\n"
          ],
          "name": "stdout"
        },
        {
          "output_type": "stream",
          "text": [
            "100%|██████████| 41/41 [00:02<00:00, 19.85it/s]"
          ],
          "name": "stderr"
        },
        {
          "output_type": "stream",
          "text": [
            "val Loss: 0.0096 Acc: 0.9543\n",
            "Epoch 34/49:\n"
          ],
          "name": "stdout"
        },
        {
          "output_type": "stream",
          "text": [
            "\n",
            "100%|██████████| 70/70 [00:05<00:00, 13.62it/s]\n"
          ],
          "name": "stderr"
        },
        {
          "output_type": "stream",
          "text": [
            "train Loss: 0.0049 Acc: 1.0000\n"
          ],
          "name": "stdout"
        },
        {
          "output_type": "stream",
          "text": [
            "100%|██████████| 41/41 [00:02<00:00, 19.45it/s]"
          ],
          "name": "stderr"
        },
        {
          "output_type": "stream",
          "text": [
            "val Loss: 0.0096 Acc: 0.9543\n",
            "Epoch 35/49:\n"
          ],
          "name": "stdout"
        },
        {
          "output_type": "stream",
          "text": [
            "\n",
            "100%|██████████| 70/70 [00:05<00:00, 13.56it/s]\n"
          ],
          "name": "stderr"
        },
        {
          "output_type": "stream",
          "text": [
            "train Loss: 0.0047 Acc: 1.0000\n"
          ],
          "name": "stdout"
        },
        {
          "output_type": "stream",
          "text": [
            "100%|██████████| 41/41 [00:01<00:00, 20.52it/s]"
          ],
          "name": "stderr"
        },
        {
          "output_type": "stream",
          "text": [
            "val Loss: 0.0096 Acc: 0.9543\n",
            "Epoch 36/49:\n"
          ],
          "name": "stdout"
        },
        {
          "output_type": "stream",
          "text": [
            "\n",
            "100%|██████████| 70/70 [00:05<00:00, 13.34it/s]"
          ],
          "name": "stderr"
        },
        {
          "output_type": "stream",
          "text": [
            "train Loss: 0.0044 Acc: 1.0000\n"
          ],
          "name": "stdout"
        },
        {
          "output_type": "stream",
          "text": [
            "\n",
            "100%|██████████| 41/41 [00:01<00:00, 20.56it/s]"
          ],
          "name": "stderr"
        },
        {
          "output_type": "stream",
          "text": [
            "val Loss: 0.0097 Acc: 0.9573\n",
            "Epoch 37/49:\n"
          ],
          "name": "stdout"
        },
        {
          "output_type": "stream",
          "text": [
            "\n",
            "100%|██████████| 70/70 [00:05<00:00, 13.64it/s]\n"
          ],
          "name": "stderr"
        },
        {
          "output_type": "stream",
          "text": [
            "train Loss: 0.0045 Acc: 1.0000\n"
          ],
          "name": "stdout"
        },
        {
          "output_type": "stream",
          "text": [
            "100%|██████████| 41/41 [00:02<00:00, 19.87it/s]"
          ],
          "name": "stderr"
        },
        {
          "output_type": "stream",
          "text": [
            "val Loss: 0.0096 Acc: 0.9512\n",
            "Epoch 38/49:\n"
          ],
          "name": "stdout"
        },
        {
          "output_type": "stream",
          "text": [
            "\n",
            "100%|██████████| 70/70 [00:05<00:00, 13.41it/s]\n"
          ],
          "name": "stderr"
        },
        {
          "output_type": "stream",
          "text": [
            "train Loss: 0.0044 Acc: 1.0000\n"
          ],
          "name": "stdout"
        },
        {
          "output_type": "stream",
          "text": [
            "100%|██████████| 41/41 [00:01<00:00, 20.51it/s]"
          ],
          "name": "stderr"
        },
        {
          "output_type": "stream",
          "text": [
            "val Loss: 0.0097 Acc: 0.9512\n",
            "Epoch 39/49:\n"
          ],
          "name": "stdout"
        },
        {
          "output_type": "stream",
          "text": [
            "\n",
            "100%|██████████| 70/70 [00:05<00:00, 13.29it/s]\n"
          ],
          "name": "stderr"
        },
        {
          "output_type": "stream",
          "text": [
            "train Loss: 0.0044 Acc: 1.0000\n"
          ],
          "name": "stdout"
        },
        {
          "output_type": "stream",
          "text": [
            "100%|██████████| 41/41 [00:02<00:00, 20.22it/s]"
          ],
          "name": "stderr"
        },
        {
          "output_type": "stream",
          "text": [
            "val Loss: 0.0095 Acc: 0.9573\n",
            "Epoch 40/49:\n"
          ],
          "name": "stdout"
        },
        {
          "output_type": "stream",
          "text": [
            "\n",
            "100%|██████████| 70/70 [00:05<00:00, 13.50it/s]\n"
          ],
          "name": "stderr"
        },
        {
          "output_type": "stream",
          "text": [
            "train Loss: 0.0045 Acc: 1.0000\n"
          ],
          "name": "stdout"
        },
        {
          "output_type": "stream",
          "text": [
            "100%|██████████| 41/41 [00:02<00:00, 20.06it/s]"
          ],
          "name": "stderr"
        },
        {
          "output_type": "stream",
          "text": [
            "val Loss: 0.0095 Acc: 0.9512\n",
            "Epoch 41/49:\n"
          ],
          "name": "stdout"
        },
        {
          "output_type": "stream",
          "text": [
            "\n",
            "100%|██████████| 70/70 [00:05<00:00, 13.68it/s]\n"
          ],
          "name": "stderr"
        },
        {
          "output_type": "stream",
          "text": [
            "train Loss: 0.0044 Acc: 1.0000\n"
          ],
          "name": "stdout"
        },
        {
          "output_type": "stream",
          "text": [
            "100%|██████████| 41/41 [00:02<00:00, 19.53it/s]"
          ],
          "name": "stderr"
        },
        {
          "output_type": "stream",
          "text": [
            "val Loss: 0.0096 Acc: 0.9543\n",
            "Epoch 42/49:\n"
          ],
          "name": "stdout"
        },
        {
          "output_type": "stream",
          "text": [
            "\n",
            "100%|██████████| 70/70 [00:05<00:00, 13.62it/s]\n"
          ],
          "name": "stderr"
        },
        {
          "output_type": "stream",
          "text": [
            "train Loss: 0.0047 Acc: 1.0000\n"
          ],
          "name": "stdout"
        },
        {
          "output_type": "stream",
          "text": [
            "100%|██████████| 41/41 [00:02<00:00, 20.43it/s]"
          ],
          "name": "stderr"
        },
        {
          "output_type": "stream",
          "text": [
            "val Loss: 0.0095 Acc: 0.9604\n",
            "Epoch 43/49:\n"
          ],
          "name": "stdout"
        },
        {
          "output_type": "stream",
          "text": [
            "\n",
            "100%|██████████| 70/70 [00:05<00:00, 13.49it/s]\n"
          ],
          "name": "stderr"
        },
        {
          "output_type": "stream",
          "text": [
            "train Loss: 0.0044 Acc: 1.0000\n"
          ],
          "name": "stdout"
        },
        {
          "output_type": "stream",
          "text": [
            "100%|██████████| 41/41 [00:01<00:00, 20.73it/s]"
          ],
          "name": "stderr"
        },
        {
          "output_type": "stream",
          "text": [
            "val Loss: 0.0097 Acc: 0.9482\n",
            "Epoch 44/49:\n"
          ],
          "name": "stdout"
        },
        {
          "output_type": "stream",
          "text": [
            "\n",
            "100%|██████████| 70/70 [00:05<00:00, 13.55it/s]\n"
          ],
          "name": "stderr"
        },
        {
          "output_type": "stream",
          "text": [
            "train Loss: 0.0041 Acc: 1.0000\n"
          ],
          "name": "stdout"
        },
        {
          "output_type": "stream",
          "text": [
            "100%|██████████| 41/41 [00:02<00:00, 20.03it/s]"
          ],
          "name": "stderr"
        },
        {
          "output_type": "stream",
          "text": [
            "val Loss: 0.0096 Acc: 0.9573\n",
            "Epoch 45/49:\n"
          ],
          "name": "stdout"
        },
        {
          "output_type": "stream",
          "text": [
            "\n",
            "100%|██████████| 70/70 [00:05<00:00, 13.67it/s]\n"
          ],
          "name": "stderr"
        },
        {
          "output_type": "stream",
          "text": [
            "train Loss: 0.0046 Acc: 0.9982\n"
          ],
          "name": "stdout"
        },
        {
          "output_type": "stream",
          "text": [
            "100%|██████████| 41/41 [00:01<00:00, 20.70it/s]"
          ],
          "name": "stderr"
        },
        {
          "output_type": "stream",
          "text": [
            "val Loss: 0.0094 Acc: 0.9543\n"
          ],
          "name": "stdout"
        },
        {
          "output_type": "stream",
          "text": [
            "\n"
          ],
          "name": "stderr"
        },
        {
          "output_type": "stream",
          "text": [
            "Epoch 46/49:\n"
          ],
          "name": "stdout"
        },
        {
          "output_type": "stream",
          "text": [
            "100%|██████████| 70/70 [00:05<00:00, 13.55it/s]\n"
          ],
          "name": "stderr"
        },
        {
          "output_type": "stream",
          "text": [
            "train Loss: 0.0043 Acc: 1.0000\n"
          ],
          "name": "stdout"
        },
        {
          "output_type": "stream",
          "text": [
            "100%|██████████| 41/41 [00:02<00:00, 20.05it/s]"
          ],
          "name": "stderr"
        },
        {
          "output_type": "stream",
          "text": [
            "val Loss: 0.0096 Acc: 0.9543\n",
            "Epoch 47/49:\n"
          ],
          "name": "stdout"
        },
        {
          "output_type": "stream",
          "text": [
            "\n",
            "100%|██████████| 70/70 [00:05<00:00, 13.62it/s]"
          ],
          "name": "stderr"
        },
        {
          "output_type": "stream",
          "text": [
            "train Loss: 0.0046 Acc: 1.0000\n"
          ],
          "name": "stdout"
        },
        {
          "output_type": "stream",
          "text": [
            "\n",
            "100%|██████████| 41/41 [00:02<00:00, 19.93it/s]"
          ],
          "name": "stderr"
        },
        {
          "output_type": "stream",
          "text": [
            "val Loss: 0.0097 Acc: 0.9512\n",
            "Epoch 48/49:\n"
          ],
          "name": "stdout"
        },
        {
          "output_type": "stream",
          "text": [
            "\n",
            "100%|██████████| 70/70 [00:05<00:00, 13.71it/s]"
          ],
          "name": "stderr"
        },
        {
          "output_type": "stream",
          "text": [
            "train Loss: 0.0040 Acc: 1.0000\n"
          ],
          "name": "stdout"
        },
        {
          "output_type": "stream",
          "text": [
            "\n",
            "100%|██████████| 41/41 [00:01<00:00, 20.82it/s]"
          ],
          "name": "stderr"
        },
        {
          "output_type": "stream",
          "text": [
            "val Loss: 0.0095 Acc: 0.9573\n",
            "Epoch 49/49:\n"
          ],
          "name": "stdout"
        },
        {
          "output_type": "stream",
          "text": [
            "\n",
            "100%|██████████| 70/70 [00:05<00:00, 13.64it/s]\n"
          ],
          "name": "stderr"
        },
        {
          "output_type": "stream",
          "text": [
            "train Loss: 0.0042 Acc: 1.0000\n"
          ],
          "name": "stdout"
        },
        {
          "output_type": "stream",
          "text": [
            "100%|██████████| 41/41 [00:02<00:00, 20.28it/s]"
          ],
          "name": "stderr"
        },
        {
          "output_type": "stream",
          "text": [
            "val Loss: 0.0096 Acc: 0.9512\n"
          ],
          "name": "stdout"
        },
        {
          "output_type": "stream",
          "text": [
            "\n"
          ],
          "name": "stderr"
        }
      ]
    },
    {
      "cell_type": "code",
      "metadata": {
        "id": "mpbR939kCVKS",
        "outputId": "ada8447d-4c8e-48af-db3f-5f827513c552",
        "colab": {
          "base_uri": "https://localhost:8080/",
          "height": 300
        }
      },
      "source": [
        "num_epochs = 50\n",
        "plt.plot([i+1 for i in range(num_epochs)], loss_train, label='train', color='b')\n",
        "plt.plot([i+1 for i in range(num_epochs)], loss_val, label='val', color='r')\n",
        "plt.legend(loc='upper left')\n",
        "plt.title('Plot loss of train and val')\n",
        "plt.xlabel('Epoch num', fontsize=15)\n",
        "plt.ylabel('Loss value', fontsize=15);\n",
        "plt.grid()\n",
        "plt.show()"
      ],
      "execution_count": null,
      "outputs": [
        {
          "output_type": "display_data",
          "data": {
            "image/png": "[encoded data removed]",
            "text/plain": [
              "<Figure size 432x288 with 1 Axes>"
            ]
          },
          "metadata": {
            "tags": [],
            "needs_background": "light"
          }
        }
      ]
    },
    {
      "cell_type": "code",
      "metadata": {
        "id": "YbOyxKKMCnyc",
        "outputId": "2d8fc697-2071-4ea0-95ec-276cf03e17b0",
        "colab": {
          "base_uri": "https://localhost:8080/",
          "height": 300
        }
      },
      "source": [
        "plt.plot([i+1 for i in range(num_epochs)], acc_train, label='train', color='b')\n",
        "plt.plot([i+1 for i in range(num_epochs)], acc_val, label='val', color='r')\n",
        "plt.legend(loc='upper left')\n",
        "plt.title('Plot accuracy of train and val')\n",
        "plt.xlabel('Epoch num', fontsize=15)\n",
        "plt.ylabel('Accuracy value', fontsize=15);\n",
        "plt.grid()\n",
        "plt.show()"
      ],
      "execution_count": null,
      "outputs": [
        {
          "output_type": "display_data",
          "data": {
            "image/png": "[encoded data removed]",
            "text/plain": [
              "<Figure size 432x288 with 1 Axes>"
            ]
          },
          "metadata": {
            "tags": [],
            "needs_background": "light"
          }
        }
      ]
    },
    {
      "cell_type": "code",
      "metadata": {
        "id": "Wm88_GY9SSum",
        "outputId": "f341d75d-f0df-41d6-f70a-a37c01cfb7bf",
        "colab": {
          "base_uri": "https://localhost:8080/",
          "height": 34
        }
      },
      "source": [
        "targets = []\n",
        "preds = []\n",
        "model.eval()\n",
        "for inputs, labels in tqdm(test_dataloader):\n",
        "    inputs = inputs.to(device)\n",
        "    labels = labels.to(device)\n",
        "    with torch.set_grad_enabled(False):\n",
        "        pred = model(inputs)\n",
        "        target, pred = decode(labels), decode(pred)\n",
        "        for i in range(len(target)):\n",
        "            targets.append(target[i])\n",
        "            preds.append(pred[i])"
      ],
      "execution_count": null,
      "outputs": [
        {
          "output_type": "stream",
          "text": [
            "100%|██████████| 41/41 [00:01<00:00, 20.77it/s]\n"
          ],
          "name": "stderr"
        }
      ]
    },
    {
      "cell_type": "code",
      "metadata": {
        "id": "2K7uE4O9XuHa",
        "outputId": "9a74e1c1-50b4-41b6-e9e4-777d4586a06a",
        "colab": {
          "base_uri": "https://localhost:8080/",
          "height": 1000
        }
      },
      "source": [
        "tp = 0\n",
        "for pred, target in zip(preds, targets):\n",
        "    if ''.join(pred) == ''.join(target):\n",
        "        tp += 1\n",
        "        print('prediction: ' + ''.join(pred) + '   target: ' + ''.join(target) + '   +')\n",
        "    else:\n",
        "      print('prediction: ' + ''.join(pred) + '   target: ' + ''.join(target))\n",
        "\n",
        "print(tp / len(targets))"
      ],
      "execution_count": null,
      "outputs": [
        {
          "output_type": "stream",
          "text": [
            "prediction: 109A9   target: 109A9   +\n",
            "prediction: F1B7E   target: F1B7E   +\n",
            "prediction: 9AAE5   target: 9AAE5   +\n",
            "prediction: 770E3   target: 770E3   +\n",
            "prediction: 7FC70   target: 7FC70   +\n",
            "prediction: BEEC3   target: BEEC3   +\n",
            "prediction: A9580   target: A9580   +\n",
            "prediction: DA4AB   target: DA4AB   +\n",
            "prediction: C9765   target: C9765   +\n",
            "prediction: AF561   target: AF561   +\n",
            "prediction: E641B   target: E641B   +\n",
            "prediction: A46DF   target: A46DF   +\n",
            "prediction: CAF9B   target: CAF9B   +\n",
            "prediction: 98EAF   target: 98EAF   +\n",
            "prediction: 9E82A   target: 9E82A   +\n",
            "prediction: 70580   target: 70580   +\n",
            "prediction: 58EB1   target: 58EB1   +\n",
            "prediction: D6B92   target: D6B92   +\n",
            "prediction: 7D676   target: 7D676   +\n",
            "prediction: E19A9   target: E19A9   +\n",
            "prediction: 54683   target: 54683   +\n",
            "prediction: A6DE1   target: A6DE1   +\n",
            "prediction: B9EF9   target: B9BF9\n",
            "prediction: C7789   target: C7789   +\n",
            "prediction: A5D4B   target: A5D4B   +\n",
            "prediction: 9C7E1   target: 9C7E1   +\n",
            "prediction: 394F3   target: 394F3   +\n",
            "prediction: E4B44   target: E4B44   +\n",
            "prediction: F739F   target: F739F   +\n",
            "prediction: A8A7A   target: A8A7A   +\n",
            "prediction: C9366   target: C9366   +\n",
            "prediction: AA8DB   target: AA8DB   +\n",
            "prediction: 8AA86   target: 8AA86   +\n",
            "prediction: 7138A   target: 7138A   +\n",
            "prediction: 17EAE   target: 17EAE   +\n",
            "prediction: 9BC65   target: 9BC65   +\n",
            "prediction: 97DD9   target: 97DD9   +\n",
            "prediction: E6AEC   target: E6AEC   +\n",
            "prediction: 851B2   target: 851B2   +\n",
            "prediction: C5FA8   target: CFFA8\n",
            "prediction: F7E13   target: F7E13   +\n",
            "prediction: 2664E   target: 2664E   +\n",
            "prediction: D11B5   target: D11B5   +\n",
            "prediction: 391A7   target: 391A7   +\n",
            "prediction: 9478D   target: 9478D   +\n",
            "prediction: E9E39   target: E9E39   +\n",
            "prediction: E3EFF   target: E3EFF   +\n",
            "prediction: 801AF   target: 801AF   +\n",
            "prediction: 65B23   target: 65B23   +\n",
            "prediction: 8C916   target: 8C916   +\n",
            "prediction: CA726   target: CA726   +\n",
            "prediction: ECC9C   target: ECC9C   +\n",
            "prediction: FF0F3   target: FF0F3   +\n",
            "prediction: CA03A   target: CA03A   +\n",
            "prediction: C5E7C   target: C5E7C   +\n",
            "prediction: 8F81B   target: 8F81B   +\n",
            "prediction: CBD2C   target: CBD2C   +\n",
            "prediction: AB3BB   target: AB3BB   +\n",
            "prediction: B6C7F   target: B6C7F   +\n",
            "prediction: 8A830   target: 8A830   +\n",
            "prediction: B1157   target: B1157   +\n",
            "prediction: 93471   target: 93471   +\n",
            "prediction: D7519   target: D7519   +\n",
            "prediction: 8FCCA   target: 8FCCA   +\n",
            "prediction: AF865   target: AF865   +\n",
            "prediction: B8B2D   target: B8B2D   +\n",
            "prediction: 79D8E   target: 79D8E   +\n",
            "prediction: 961C6   target: 967C6\n",
            "prediction: BD6F3   target: BD6F3   +\n",
            "prediction: 5483C   target: 5483C   +\n",
            "prediction: 76510   target: 76510   +\n",
            "prediction: AFC6E   target: AFC6E   +\n",
            "prediction: EC2ED   target: EC2ED   +\n",
            "prediction: D432E   target: D432E   +\n",
            "prediction: BA4C3   target: BA4C3   +\n",
            "prediction: 422E3   target: 422E3   +\n",
            "prediction: 287CF   target: 287CF   +\n",
            "prediction: A11E9   target: A11E9   +\n",
            "prediction: 41B22   target: 41B22   +\n",
            "prediction: FB317   target: FB317   +\n",
            "prediction: BA346   target: BA346   +\n",
            "prediction: 8F828   target: 8F828   +\n",
            "prediction: A67CF   target: A67CF   +\n",
            "prediction: 885BB   target: 885BB   +\n",
            "prediction: BAC9C   target: BAC9C   +\n",
            "prediction: DB05F   target: DB95F\n",
            "prediction: DE6E9   target: DB6E9\n",
            "prediction: CF83A   target: CF83A   +\n",
            "prediction: F9A1E   target: F9A1E   +\n",
            "prediction: ECDA7   target: ECDA7   +\n",
            "prediction: 589BD   target: 589BD   +\n",
            "prediction: 89C18   target: 89C18   +\n",
            "prediction: 101CC   target: 101CC   +\n",
            "prediction: F39A5   target: F39A5   +\n",
            "prediction: D5A19   target: D5A19   +\n",
            "prediction: C540C   target: C540C   +\n",
            "prediction: EDFA9   target: EDFA9   +\n",
            "prediction: E53A6   target: E53A6   +\n",
            "prediction: 8AC52   target: 8AC52   +\n",
            "prediction: 7BFDF   target: 7EFDF\n",
            "prediction: A978D   target: A978D   +\n",
            "prediction: 12082   target: 12082   +\n",
            "prediction: 19984   target: 19984   +\n",
            "prediction: CE6FE   target: CE6FE   +\n",
            "prediction: 7FEE2   target: 7FEB2\n",
            "prediction: 76702   target: 76702   +\n",
            "prediction: 21D41   target: 21D41   +\n",
            "prediction: B21A5   target: B21A5   +\n",
            "prediction: B7072   target: B7072   +\n",
            "prediction: 78C27   target: 78C27   +\n",
            "prediction: 8D3ED   target: 8D3ED   +\n",
            "prediction: 8154B   target: 8154B   +\n",
            "prediction: DB99E   target: DB99E   +\n",
            "prediction: DB473   target: DB473   +\n",
            "prediction: A4FD1   target: A4FD1   +\n",
            "prediction: 60CD4   target: 60CD4   +\n",
            "prediction: B14AA   target: B14AA   +\n",
            "prediction: BA56F   target: BA66F\n",
            "prediction: E8ECA   target: E8ECA   +\n",
            "prediction: 203B1   target: 203B1   +\n",
            "prediction: BBFE1   target: BEFE1\n",
            "prediction: 3572A   target: 3572A   +\n",
            "prediction: 65EAD   target: 65EAD   +\n",
            "prediction: 157E3   target: 157E3   +\n",
            "prediction: FA038   target: FA038   +\n",
            "prediction: 56404   target: 56404   +\n",
            "prediction: FB26D   target: FB26D   +\n",
            "prediction: BCC71   target: BCC71   +\n",
            "prediction: 4274C   target: 4274C   +\n",
            "prediction: B3ABF   target: B3ABF   +\n",
            "prediction: 82B62   target: 82B62   +\n",
            "prediction: 7DD7E   target: 7DD7E   +\n",
            "prediction: F853A   target: F853A   +\n",
            "prediction: A7677   target: A7677   +\n",
            "prediction: 63A15   target: 63A15   +\n",
            "prediction: 191FC   target: 191FC   +\n",
            "prediction: 60F69   target: 60F69   +\n",
            "prediction: CEF0F   target: CEF0F   +\n",
            "prediction: E7BAA   target: E7BAA   +\n",
            "prediction: 39C7D   target: 39C7D   +\n",
            "prediction: AC2EF   target: AC2EF   +\n",
            "prediction: 3788F   target: 3788F   +\n",
            "prediction: 362B5   target: 362B5   +\n",
            "prediction: D21E8   target: D21E8   +\n",
            "prediction: 3583D   target: 3583D   +\n",
            "prediction: 9B509   target: 9B509   +\n",
            "prediction: 52DDF   target: 52DDF   +\n",
            "prediction: EB101   target: EB101   +\n",
            "prediction: 353F6   target: 353F6   +\n",
            "prediction: A9188   target: A9188   +\n",
            "prediction: 4527C   target: 4527C   +\n",
            "prediction: EB6FF   target: EB5FF\n",
            "prediction: B31A1   target: B31A1   +\n",
            "prediction: EB5CB   target: EB5CB   +\n",
            "prediction: D877D   target: D877D   +\n",
            "prediction: 9C265   target: 9C265   +\n",
            "prediction: 68A1A   target: 68A1A   +\n",
            "prediction: B2184   target: B2184   +\n",
            "prediction: 225DC   target: 225DC   +\n",
            "prediction: CD268   target: CD268   +\n",
            "prediction: 21C43   target: 21C43   +\n",
            "prediction: 48D4D   target: 48D4D   +\n",
            "prediction: 884AD   target: 884AD   +\n",
            "prediction: FA5E5   target: FA5E5   +\n",
            "prediction: C5F78   target: C5F78   +\n",
            "prediction: 5630F   target: 5630F   +\n",
            "prediction: 29ACD   target: 29ACD   +\n",
            "prediction: 290F2   target: 290F2   +\n",
            "prediction: 8DAF5   target: 8DAF5   +\n",
            "prediction: A5696   target: A5696   +\n",
            "prediction: 246DB   target: 246DB   +\n",
            "prediction: 715B8   target: 715E8\n",
            "prediction: 488ED   target: 488ED   +\n",
            "prediction: C2430   target: C2430   +\n",
            "prediction: DF3F1   target: DF3F1   +\n",
            "prediction: AAAFC   target: AAAFC   +\n",
            "prediction: 136FB   target: 136FB   +\n",
            "prediction: B9D3E   target: B9D3E   +\n",
            "prediction: B20E0   target: B20B0\n",
            "prediction: 57DF4   target: 57DF4   +\n",
            "prediction: 26202   target: 26202   +\n",
            "prediction: 42E0D   target: 42E0D   +\n",
            "prediction: 89890   target: 89890   +\n",
            "prediction: 10A59   target: 10A59   +\n",
            "prediction: A6710   target: A6710   +\n",
            "prediction: F1327   target: F1327   +\n",
            "prediction: 94EFC   target: 94EFC   +\n",
            "prediction: BD99B   target: BD99B   +\n",
            "prediction: E1AEF   target: E1AEF   +\n",
            "prediction: F2EE2   target: F2EE2   +\n",
            "prediction: EAD07   target: EAD07   +\n",
            "prediction: 86BB9   target: 86BB9   +\n",
            "prediction: 60E27   target: 60E27   +\n",
            "prediction: 30267   target: 30267   +\n",
            "prediction: 2976A   target: 2976A   +\n",
            "prediction: C6369   target: C6369   +\n",
            "prediction: C4F68   target: C4F68   +\n",
            "prediction: 433D7   target: 433D7   +\n",
            "prediction: 85A26   target: 85A26   +\n",
            "prediction: 36992   target: 36992   +\n",
            "prediction: 9147F   target: 9147F   +\n",
            "prediction: BE0E9   target: BE0E9   +\n",
            "prediction: E5516   target: E5516   +\n",
            "prediction: DCDE6   target: DCDE6   +\n",
            "prediction: A6F6F   target: A6F6F   +\n",
            "prediction: A8BF5   target: A8BF5   +\n",
            "prediction: 8623B   target: 8623B   +\n",
            "prediction: 3831C   target: 3831C   +\n",
            "prediction: 9AB36   target: 9AE36\n",
            "prediction: F771F   target: F771F   +\n",
            "prediction: EA353   target: EA353   +\n",
            "prediction: 35A22   target: 35A22   +\n",
            "prediction: 92D77   target: 92D77   +\n",
            "prediction: 752D2   target: 752D2   +\n",
            "prediction: E0CF1   target: E0CF1   +\n",
            "prediction: 34F8E   target: 34F8E   +\n",
            "prediction: D0018   target: D0018   +\n",
            "prediction: DCFAC   target: DCFAC   +\n",
            "prediction: CDEA5   target: CDEA5   +\n",
            "prediction: 2474B   target: 2474B   +\n",
            "prediction: 9C410   target: 9C410   +\n",
            "prediction: 7872C   target: 7872C   +\n",
            "prediction: 7E110   target: 7E110   +\n",
            "prediction: C9C18   target: C9C18   +\n",
            "prediction: 259CD   target: 259CD   +\n",
            "prediction: 77EB0   target: 77EB0   +\n",
            "prediction: F119B   target: F119B   +\n",
            "prediction: 64ED6   target: 64ED6   +\n",
            "prediction: C167F   target: C167F   +\n",
            "prediction: E1854   target: E1854   +\n",
            "prediction: D148D   target: D148D   +\n",
            "prediction: 502CE   target: 502CE   +\n",
            "prediction: 8BC30   target: 8BC30   +\n",
            "prediction: 62E45   target: 62E45   +\n",
            "prediction: 79709   target: 79709   +\n",
            "prediction: 8C87B   target: 8C87B   +\n",
            "prediction: 8BC7E   target: 8EC7E\n",
            "prediction: 354F1   target: 354F1   +\n",
            "prediction: 906E0   target: 906E0   +\n",
            "prediction: 51920   target: 51920   +\n",
            "prediction: F9BAD   target: F9BAD   +\n",
            "prediction: 32AE9   target: 32AE9   +\n",
            "prediction: 9B07C   target: 9B07C   +\n",
            "prediction: 14E4A   target: 14E4A   +\n",
            "prediction: BE261   target: BE261   +\n",
            "prediction: F51CD   target: F51CD   +\n",
            "prediction: 27AA1   target: 27AA1   +\n",
            "prediction: 8AB96   target: 8AB96   +\n",
            "prediction: C05D5   target: C05D5   +\n",
            "prediction: 23372   target: 23372   +\n",
            "prediction: C3570   target: C3570   +\n",
            "prediction: ACBB4   target: ACBB4   +\n",
            "prediction: 273F2   target: 273F2   +\n",
            "prediction: D895F   target: D895F   +\n",
            "prediction: 40E85   target: 40E85   +\n",
            "prediction: 14E79   target: 14E79   +\n",
            "prediction: E3AA9   target: E3AA9   +\n",
            "prediction: F526C   target: F526C   +\n",
            "prediction: DBA3E   target: DBA3E   +\n",
            "prediction: AF046   target: AF046   +\n",
            "prediction: B3703   target: B3703   +\n",
            "prediction: D4713   target: D4713   +\n",
            "prediction: BB91A   target: BB91A   +\n",
            "prediction: C384C   target: C384C   +\n",
            "prediction: 2295D   target: 2295D   +\n",
            "prediction: C2957   target: C2957   +\n",
            "prediction: DDCC0   target: DDCC0   +\n",
            "prediction: F0FFC   target: F0FFC   +\n",
            "prediction: 7201D   target: 7201D   +\n",
            "prediction: E8EE4   target: E8EE4   +\n",
            "prediction: 131FF   target: 131FF   +\n",
            "prediction: E8C20   target: E8C20   +\n",
            "prediction: 60099   target: 60099   +\n",
            "prediction: C07CB   target: C07CB   +\n",
            "prediction: 75583   target: 75583   +\n",
            "prediction: CD4DA   target: CD4DA   +\n",
            "prediction: C23A9   target: C23A9   +\n",
            "prediction: 7462A   target: 7462A   +\n",
            "prediction: C24E7   target: C24E7   +\n",
            "prediction: 66138   target: 66138   +\n",
            "prediction: 14A75   target: 14A75   +\n",
            "prediction: 91BE1   target: 91BE1   +\n",
            "prediction: E933E   target: E933E   +\n",
            "prediction: 9A7AF   target: 9A7AF   +\n",
            "prediction: E0BC6   target: E0BC6   +\n",
            "prediction: BE65D   target: BE65D   +\n",
            "prediction: F1929   target: F1929   +\n",
            "prediction: 62993   target: 62993   +\n",
            "prediction: F53EA   target: F53EA   +\n",
            "prediction: C0B6E   target: C0B6E   +\n",
            "prediction: AEE29   target: AEE29   +\n",
            "prediction: 11402   target: 11492\n",
            "prediction: 10B2A   target: 10B2A   +\n",
            "prediction: C173C   target: C173C   +\n",
            "prediction: C4C8B   target: C4C8B   +\n",
            "prediction: 7D093   target: 7D093   +\n",
            "prediction: 47E10   target: 47E10   +\n",
            "prediction: F57DD   target: F57DD   +\n",
            "prediction: 6325D   target: 6325D   +\n",
            "prediction: BCA3E   target: BCA3E   +\n",
            "prediction: A9893   target: A9893   +\n",
            "prediction: FBE5A   target: FBE5A   +\n",
            "prediction: A6579   target: A6579   +\n",
            "prediction: B3A7B   target: B3A7B   +\n",
            "prediction: 26468   target: 26468   +\n",
            "prediction: B71C0   target: B71C0   +\n",
            "prediction: C8D0C   target: C8D0C   +\n",
            "prediction: D2C32   target: D2C32   +\n",
            "prediction: 9464D   target: 9464D   +\n",
            "prediction: 481AE   target: 481AE   +\n",
            "prediction: E2C65   target: E2C65   +\n",
            "prediction: 16C00   target: 16C0C\n",
            "prediction: 390F7   target: 390F7   +\n",
            "prediction: CDA36   target: CDA36   +\n",
            "prediction: E6069   target: E6069   +\n",
            "prediction: 5220A   target: 5220A   +\n",
            "prediction: 700E4   target: 700E4   +\n",
            "prediction: F7191   target: F7191   +\n",
            "prediction: 62E58   target: 62E58   +\n",
            "prediction: F36E7   target: F36E7   +\n",
            "prediction: 331B7   target: 331B7   +\n",
            "0.9501557632398754\n"
          ],
          "name": "stdout"
        }
      ]
    },
    {
      "cell_type": "code",
      "metadata": {
        "id": "usOv__uTElbb",
        "outputId": "d86446f9-28db-4230-9f0e-c4468cfaaea1",
        "colab": {
          "base_uri": "https://localhost:8080/",
          "height": 238
        }
      },
      "source": [
        "model.eval()\n",
        "img = cv2.imread(os.path.join(PATH_TEST, '6325D.png')) / 255\n",
        "plt.imshow(img)\n",
        "img = torch.Tensor(img).permute(2, 0, 1).unsqueeze_(0).to(device)\n",
        "pred = model(img)\n",
        "print(decode(pred))\n",
        "print(''.join(decode(pred)[0]))"
      ],
      "execution_count": null,
      "outputs": [
        {
          "output_type": "stream",
          "text": [
            "[['6' '8' '2' '5' 'D']]\n",
            "6825D\n"
          ],
          "name": "stdout"
        },
        {
          "output_type": "display_data",
          "data": {
            "image/png": "[encoded data removed]",
            "text/plain": [
              "<Figure size 432x288 with 1 Axes>"
            ]
          },
          "metadata": {
            "tags": [],
            "needs_background": "light"
          }
        }
      ]
    }
  ]
}